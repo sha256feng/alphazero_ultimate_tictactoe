{
 "cells": [
  {
   "cell_type": "code",
   "execution_count": 1,
   "id": "db27ffe0",
   "metadata": {},
   "outputs": [],
   "source": [
    "import sys\n",
    "sys.path.append('../src')"
   ]
  },
  {
   "cell_type": "code",
   "execution_count": 16,
   "id": "5ac968e0",
   "metadata": {},
   "outputs": [],
   "source": [
    "import encoder_decoder_uttt as ed\n",
    "from alpha_net_uttt import ConnectNet\n",
    "from utictactoe_board import board as c_board\n",
    "import torch\n",
    "import numpy as np\n",
    "import pickle\n",
    "import matplotlib.pyplot as plt"
   ]
  },
  {
   "cell_type": "code",
   "execution_count": 3,
   "id": "fe29fea4",
   "metadata": {},
   "outputs": [
    {
     "data": {
      "text/plain": [
       "<All keys matched successfully>"
      ]
     },
     "execution_count": 3,
     "metadata": {},
     "output_type": "execute_result"
    }
   ],
   "source": [
    "net = ConnectNet()\n",
    "cuda = torch.cuda.is_available()\n",
    "if cuda:\n",
    "    net.cuda()\n",
    "net.eval()\n",
    "net_filename = \"../src/model_data/uttt_current_net__iter0.pth.tar\"\n",
    "checkpoint = torch.load(net_filename)\n",
    "net.load_state_dict(checkpoint['state_dict'])"
   ]
  },
  {
   "cell_type": "code",
   "execution_count": 7,
   "id": "37104568",
   "metadata": {},
   "outputs": [],
   "source": [
    "# file = \"../src/datasets/dataset_iter0_cpu1_0_2021-05-07\"\n",
    "file = \"../src/datasets/iter_0/dataset_iter0_cpu0_1_2021-05-09\"\n",
    "with open(file, 'rb') as f:\n",
    "    data = pickle.load(f)"
   ]
  },
  {
   "cell_type": "code",
   "execution_count": 28,
   "id": "49b83eb3",
   "metadata": {},
   "outputs": [],
   "source": [
    "# for i in range(len(data)):\n",
    "i = 30\n",
    "s,p,value = data[i]\n",
    "cboard = ed.decode_board(s)\n",
    "# m,n = cboard.old_move\n",
    "# if m != -1:\n",
    "#     cboard.current_board[m,n] += '-'\n",
    "# fig = view_board(cboard.current_board)\n",
    "# fig.savefig(f\"./pics/0509game_cpu0_iter0_num_{i:02}.png\")\n",
    "# plt.close()"
   ]
  },
  {
   "cell_type": "code",
   "execution_count": 29,
   "id": "0744c256",
   "metadata": {},
   "outputs": [
    {
     "data": {
      "text/plain": [
       "array([['X', ' ', 'O', ' ', ' ', ' ', 'O', ' ', 'X'],\n",
       "       ['O', 'O', 'O', ' ', ' ', 'X', ' ', ' ', ' '],\n",
       "       ['X', ' ', 'X', ' ', ' ', ' ', 'X', 'O', ' '],\n",
       "       ['X', ' ', 'X', 'O', ' ', ' ', 'X', ' ', ' '],\n",
       "       ['O', 'X', ' ', ' ', ' ', ' ', ' ', ' ', ' '],\n",
       "       ['X', ' ', ' ', ' ', 'X', ' ', ' ', ' ', 'O'],\n",
       "       ['O', ' ', 'O', ' ', 'O', ' ', 'X', ' ', 'X'],\n",
       "       ['O', ' ', ' ', 'X', ' ', ' ', 'O', ' ', ' '],\n",
       "       [' ', ' ', 'O', ' ', ' ', ' ', ' ', ' ', ' ']], dtype='<U32')"
      ]
     },
     "execution_count": 29,
     "metadata": {},
     "output_type": "execute_result"
    }
   ],
   "source": [
    "cboard.current_board"
   ]
  },
  {
   "cell_type": "code",
   "execution_count": 30,
   "id": "54f03d4d",
   "metadata": {},
   "outputs": [],
   "source": [
    "with torch.no_grad():\n",
    "    encoded_s = ed.encode_board(cboard)\n",
    "    encoded_s = encoded_s.transpose(2,0,1)\n",
    "    encoded_s = torch.from_numpy(encoded_s).float().cuda()\n",
    "    child_priors, value_estimate = net(encoded_s)\n",
    "    child_priors = child_priors.detach().cpu().numpy().reshape(-1)\n",
    "    value_estimate = value_estimate.item()"
   ]
  },
  {
   "cell_type": "code",
   "execution_count": 31,
   "id": "a0c9fa6f",
   "metadata": {},
   "outputs": [
    {
     "data": {
      "text/plain": [
       "(81,)"
      ]
     },
     "execution_count": 31,
     "metadata": {},
     "output_type": "execute_result"
    }
   ],
   "source": [
    "child_priors.shape"
   ]
  },
  {
   "cell_type": "code",
   "execution_count": 32,
   "id": "629998e8",
   "metadata": {},
   "outputs": [],
   "source": [
    "p_mat = np.zeros((9,9))\n",
    "for i in range(child_priors.shape[0]):\n",
    "    m = i // 9\n",
    "    n = i % 9\n",
    "    p_mat[m,n] = child_priors[i]"
   ]
  },
  {
   "cell_type": "code",
   "execution_count": 33,
   "id": "0f430950",
   "metadata": {},
   "outputs": [
    {
     "data": {
      "text/plain": [
       "<matplotlib.image.AxesImage at 0x7f8ab2e82190>"
      ]
     },
     "execution_count": 33,
     "metadata": {},
     "output_type": "execute_result"
    },
    {
     "data": {
      "image/png": "[encoded data removed]",
      "text/plain": [
       "<Figure size 432x288 with 1 Axes>"
      ]
     },
     "metadata": {
      "needs_background": "light"
     },
     "output_type": "display_data"
    }
   ],
   "source": [
    "%matplotlib inline\n",
    "plt.imshow(p_mat)\n",
    "# plt.show()"
   ]
  },
  {
   "cell_type": "code",
   "execution_count": 19,
   "id": "74e9e9de",
   "metadata": {},
   "outputs": [
    {
     "data": {
      "text/plain": [
       "array([[0.01292576, 0.01218717, 0.01272827, 0.0123532 , 0.01237006,\n",
       "        0.0126658 , 0.01259848, 0.01207942, 0.01229617],\n",
       "       [0.01246561, 0.01180336, 0.01238806, 0.01187878, 0.01218279,\n",
       "        0.01274816, 0.01254045, 0.01217338, 0.01212224],\n",
       "       [0.01176017, 0.01203619, 0.01294183, 0.01157094, 0.01218566,\n",
       "        0.012317  , 0.01196335, 0.01228812, 0.01240018],\n",
       "       [0.01245654, 0.01192717, 0.01247529, 0.01271767, 0.01223555,\n",
       "        0.01213427, 0.01242663, 0.01190281, 0.01277909],\n",
       "       [0.01239258, 0.01204636, 0.01202393, 0.0128003 , 0.01230511,\n",
       "        0.01279077, 0.01279298, 0.01274027, 0.0122522 ],\n",
       "       [0.01245971, 0.0123626 , 0.01213452, 0.01240707, 0.01236769,\n",
       "        0.01244864, 0.01225966, 0.0117161 , 0.01219309],\n",
       "       [0.01243484, 0.01273084, 0.01211007, 0.01261716, 0.01232223,\n",
       "        0.01239261, 0.01220441, 0.01229387, 0.0120737 ],\n",
       "       [0.01291413, 0.01247979, 0.01224682, 0.01245411, 0.01276987,\n",
       "        0.01218845, 0.01224879, 0.01222011, 0.01247357],\n",
       "       [0.01214463, 0.01296689, 0.01219285, 0.01216187, 0.01253786,\n",
       "        0.01195566, 0.0123138 , 0.01245444, 0.01257726]])"
      ]
     },
     "execution_count": 19,
     "metadata": {},
     "output_type": "execute_result"
    }
   ],
   "source": [
    "p_mat"
   ]
  },
  {
   "cell_type": "code",
   "execution_count": 34,
   "id": "e5fc4e1d",
   "metadata": {},
   "outputs": [
    {
     "data": {
      "text/plain": [
       "-0.038992416113615036"
      ]
     },
     "execution_count": 34,
     "metadata": {},
     "output_type": "execute_result"
    }
   ],
   "source": [
    "value_estimate"
   ]
  },
  {
   "cell_type": "code",
   "execution_count": null,
   "id": "e2dac8d7",
   "metadata": {},
   "outputs": [],
   "source": []
  }
 ],
 "metadata": {
  "kernelspec": {
   "display_name": "Python 3",
   "language": "python",
   "name": "python3"
  },
  "language_info": {
   "codemirror_mode": {
    "name": "ipython",
    "version": 3
   },
   "file_extension": ".py",
   "mimetype": "text/x-python",
   "name": "python",
   "nbconvert_exporter": "python",
   "pygments_lexer": "ipython3",
   "version": "3.7.7"
  }
 },
 "nbformat": 4,
 "nbformat_minor": 5
}
