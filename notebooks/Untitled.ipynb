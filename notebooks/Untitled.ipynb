{
 "cells": [
  {
   "cell_type": "code",
   "execution_count": 1,
   "id": "cbe28f9b",
   "metadata": {},
   "outputs": [],
   "source": [
    "import sys\n",
    "sys.path.append('../src')"
   ]
  },
  {
   "cell_type": "code",
   "execution_count": 2,
   "id": "72e0adbe",
   "metadata": {},
   "outputs": [],
   "source": [
    "import pickle\n",
    "import os\n",
    "import collections\n",
    "import numpy as np\n",
    "import math\n",
    "import encoder_decoder_uttt as ed\n",
    "from utictactoe_board import board as c_board\n",
    "import copy\n",
    "import torch\n",
    "import torch.multiprocessing as mp\n",
    "from alpha_net_uttt import ConnectNet\n",
    "import datetime\n",
    "import logging\n",
    "from tqdm import tqdm"
   ]
  },
  {
   "cell_type": "code",
   "execution_count": 3,
   "id": "50621c5a",
   "metadata": {},
   "outputs": [],
   "source": [
    "net = ConnectNet()"
   ]
  },
  {
   "cell_type": "code",
   "execution_count": 4,
   "id": "09c0174d",
   "metadata": {},
   "outputs": [],
   "source": [
    "cuda = torch.cuda.is_available()"
   ]
  },
  {
   "cell_type": "code",
   "execution_count": 5,
   "id": "46df3c0a",
   "metadata": {},
   "outputs": [
    {
     "data": {
      "text/plain": [
       "ConnectNet(\n",
       "  (conv): ConvBlock(\n",
       "    (conv1): Conv2d(3, 128, kernel_size=(3, 3), stride=(1, 1), padding=(1, 1))\n",
       "    (bn1): BatchNorm2d(128, eps=1e-05, momentum=0.1, affine=True, track_running_stats=True)\n",
       "  )\n",
       "  (res_0): ResBlock(\n",
       "    (conv1): Conv2d(128, 128, kernel_size=(3, 3), stride=(1, 1), padding=(1, 1), bias=False)\n",
       "    (bn1): BatchNorm2d(128, eps=1e-05, momentum=0.1, affine=True, track_running_stats=True)\n",
       "    (conv2): Conv2d(128, 128, kernel_size=(3, 3), stride=(1, 1), padding=(1, 1), bias=False)\n",
       "    (bn2): BatchNorm2d(128, eps=1e-05, momentum=0.1, affine=True, track_running_stats=True)\n",
       "  )\n",
       "  (res_1): ResBlock(\n",
       "    (conv1): Conv2d(128, 128, kernel_size=(3, 3), stride=(1, 1), padding=(1, 1), bias=False)\n",
       "    (bn1): BatchNorm2d(128, eps=1e-05, momentum=0.1, affine=True, track_running_stats=True)\n",
       "    (conv2): Conv2d(128, 128, kernel_size=(3, 3), stride=(1, 1), padding=(1, 1), bias=False)\n",
       "    (bn2): BatchNorm2d(128, eps=1e-05, momentum=0.1, affine=True, track_running_stats=True)\n",
       "  )\n",
       "  (res_2): ResBlock(\n",
       "    (conv1): Conv2d(128, 128, kernel_size=(3, 3), stride=(1, 1), padding=(1, 1), bias=False)\n",
       "    (bn1): BatchNorm2d(128, eps=1e-05, momentum=0.1, affine=True, track_running_stats=True)\n",
       "    (conv2): Conv2d(128, 128, kernel_size=(3, 3), stride=(1, 1), padding=(1, 1), bias=False)\n",
       "    (bn2): BatchNorm2d(128, eps=1e-05, momentum=0.1, affine=True, track_running_stats=True)\n",
       "  )\n",
       "  (res_3): ResBlock(\n",
       "    (conv1): Conv2d(128, 128, kernel_size=(3, 3), stride=(1, 1), padding=(1, 1), bias=False)\n",
       "    (bn1): BatchNorm2d(128, eps=1e-05, momentum=0.1, affine=True, track_running_stats=True)\n",
       "    (conv2): Conv2d(128, 128, kernel_size=(3, 3), stride=(1, 1), padding=(1, 1), bias=False)\n",
       "    (bn2): BatchNorm2d(128, eps=1e-05, momentum=0.1, affine=True, track_running_stats=True)\n",
       "  )\n",
       "  (res_4): ResBlock(\n",
       "    (conv1): Conv2d(128, 128, kernel_size=(3, 3), stride=(1, 1), padding=(1, 1), bias=False)\n",
       "    (bn1): BatchNorm2d(128, eps=1e-05, momentum=0.1, affine=True, track_running_stats=True)\n",
       "    (conv2): Conv2d(128, 128, kernel_size=(3, 3), stride=(1, 1), padding=(1, 1), bias=False)\n",
       "    (bn2): BatchNorm2d(128, eps=1e-05, momentum=0.1, affine=True, track_running_stats=True)\n",
       "  )\n",
       "  (res_5): ResBlock(\n",
       "    (conv1): Conv2d(128, 128, kernel_size=(3, 3), stride=(1, 1), padding=(1, 1), bias=False)\n",
       "    (bn1): BatchNorm2d(128, eps=1e-05, momentum=0.1, affine=True, track_running_stats=True)\n",
       "    (conv2): Conv2d(128, 128, kernel_size=(3, 3), stride=(1, 1), padding=(1, 1), bias=False)\n",
       "    (bn2): BatchNorm2d(128, eps=1e-05, momentum=0.1, affine=True, track_running_stats=True)\n",
       "  )\n",
       "  (res_6): ResBlock(\n",
       "    (conv1): Conv2d(128, 128, kernel_size=(3, 3), stride=(1, 1), padding=(1, 1), bias=False)\n",
       "    (bn1): BatchNorm2d(128, eps=1e-05, momentum=0.1, affine=True, track_running_stats=True)\n",
       "    (conv2): Conv2d(128, 128, kernel_size=(3, 3), stride=(1, 1), padding=(1, 1), bias=False)\n",
       "    (bn2): BatchNorm2d(128, eps=1e-05, momentum=0.1, affine=True, track_running_stats=True)\n",
       "  )\n",
       "  (res_7): ResBlock(\n",
       "    (conv1): Conv2d(128, 128, kernel_size=(3, 3), stride=(1, 1), padding=(1, 1), bias=False)\n",
       "    (bn1): BatchNorm2d(128, eps=1e-05, momentum=0.1, affine=True, track_running_stats=True)\n",
       "    (conv2): Conv2d(128, 128, kernel_size=(3, 3), stride=(1, 1), padding=(1, 1), bias=False)\n",
       "    (bn2): BatchNorm2d(128, eps=1e-05, momentum=0.1, affine=True, track_running_stats=True)\n",
       "  )\n",
       "  (res_8): ResBlock(\n",
       "    (conv1): Conv2d(128, 128, kernel_size=(3, 3), stride=(1, 1), padding=(1, 1), bias=False)\n",
       "    (bn1): BatchNorm2d(128, eps=1e-05, momentum=0.1, affine=True, track_running_stats=True)\n",
       "    (conv2): Conv2d(128, 128, kernel_size=(3, 3), stride=(1, 1), padding=(1, 1), bias=False)\n",
       "    (bn2): BatchNorm2d(128, eps=1e-05, momentum=0.1, affine=True, track_running_stats=True)\n",
       "  )\n",
       "  (res_9): ResBlock(\n",
       "    (conv1): Conv2d(128, 128, kernel_size=(3, 3), stride=(1, 1), padding=(1, 1), bias=False)\n",
       "    (bn1): BatchNorm2d(128, eps=1e-05, momentum=0.1, affine=True, track_running_stats=True)\n",
       "    (conv2): Conv2d(128, 128, kernel_size=(3, 3), stride=(1, 1), padding=(1, 1), bias=False)\n",
       "    (bn2): BatchNorm2d(128, eps=1e-05, momentum=0.1, affine=True, track_running_stats=True)\n",
       "  )\n",
       "  (res_10): ResBlock(\n",
       "    (conv1): Conv2d(128, 128, kernel_size=(3, 3), stride=(1, 1), padding=(1, 1), bias=False)\n",
       "    (bn1): BatchNorm2d(128, eps=1e-05, momentum=0.1, affine=True, track_running_stats=True)\n",
       "    (conv2): Conv2d(128, 128, kernel_size=(3, 3), stride=(1, 1), padding=(1, 1), bias=False)\n",
       "    (bn2): BatchNorm2d(128, eps=1e-05, momentum=0.1, affine=True, track_running_stats=True)\n",
       "  )\n",
       "  (res_11): ResBlock(\n",
       "    (conv1): Conv2d(128, 128, kernel_size=(3, 3), stride=(1, 1), padding=(1, 1), bias=False)\n",
       "    (bn1): BatchNorm2d(128, eps=1e-05, momentum=0.1, affine=True, track_running_stats=True)\n",
       "    (conv2): Conv2d(128, 128, kernel_size=(3, 3), stride=(1, 1), padding=(1, 1), bias=False)\n",
       "    (bn2): BatchNorm2d(128, eps=1e-05, momentum=0.1, affine=True, track_running_stats=True)\n",
       "  )\n",
       "  (res_12): ResBlock(\n",
       "    (conv1): Conv2d(128, 128, kernel_size=(3, 3), stride=(1, 1), padding=(1, 1), bias=False)\n",
       "    (bn1): BatchNorm2d(128, eps=1e-05, momentum=0.1, affine=True, track_running_stats=True)\n",
       "    (conv2): Conv2d(128, 128, kernel_size=(3, 3), stride=(1, 1), padding=(1, 1), bias=False)\n",
       "    (bn2): BatchNorm2d(128, eps=1e-05, momentum=0.1, affine=True, track_running_stats=True)\n",
       "  )\n",
       "  (res_13): ResBlock(\n",
       "    (conv1): Conv2d(128, 128, kernel_size=(3, 3), stride=(1, 1), padding=(1, 1), bias=False)\n",
       "    (bn1): BatchNorm2d(128, eps=1e-05, momentum=0.1, affine=True, track_running_stats=True)\n",
       "    (conv2): Conv2d(128, 128, kernel_size=(3, 3), stride=(1, 1), padding=(1, 1), bias=False)\n",
       "    (bn2): BatchNorm2d(128, eps=1e-05, momentum=0.1, affine=True, track_running_stats=True)\n",
       "  )\n",
       "  (res_14): ResBlock(\n",
       "    (conv1): Conv2d(128, 128, kernel_size=(3, 3), stride=(1, 1), padding=(1, 1), bias=False)\n",
       "    (bn1): BatchNorm2d(128, eps=1e-05, momentum=0.1, affine=True, track_running_stats=True)\n",
       "    (conv2): Conv2d(128, 128, kernel_size=(3, 3), stride=(1, 1), padding=(1, 1), bias=False)\n",
       "    (bn2): BatchNorm2d(128, eps=1e-05, momentum=0.1, affine=True, track_running_stats=True)\n",
       "  )\n",
       "  (res_15): ResBlock(\n",
       "    (conv1): Conv2d(128, 128, kernel_size=(3, 3), stride=(1, 1), padding=(1, 1), bias=False)\n",
       "    (bn1): BatchNorm2d(128, eps=1e-05, momentum=0.1, affine=True, track_running_stats=True)\n",
       "    (conv2): Conv2d(128, 128, kernel_size=(3, 3), stride=(1, 1), padding=(1, 1), bias=False)\n",
       "    (bn2): BatchNorm2d(128, eps=1e-05, momentum=0.1, affine=True, track_running_stats=True)\n",
       "  )\n",
       "  (res_16): ResBlock(\n",
       "    (conv1): Conv2d(128, 128, kernel_size=(3, 3), stride=(1, 1), padding=(1, 1), bias=False)\n",
       "    (bn1): BatchNorm2d(128, eps=1e-05, momentum=0.1, affine=True, track_running_stats=True)\n",
       "    (conv2): Conv2d(128, 128, kernel_size=(3, 3), stride=(1, 1), padding=(1, 1), bias=False)\n",
       "    (bn2): BatchNorm2d(128, eps=1e-05, momentum=0.1, affine=True, track_running_stats=True)\n",
       "  )\n",
       "  (res_17): ResBlock(\n",
       "    (conv1): Conv2d(128, 128, kernel_size=(3, 3), stride=(1, 1), padding=(1, 1), bias=False)\n",
       "    (bn1): BatchNorm2d(128, eps=1e-05, momentum=0.1, affine=True, track_running_stats=True)\n",
       "    (conv2): Conv2d(128, 128, kernel_size=(3, 3), stride=(1, 1), padding=(1, 1), bias=False)\n",
       "    (bn2): BatchNorm2d(128, eps=1e-05, momentum=0.1, affine=True, track_running_stats=True)\n",
       "  )\n",
       "  (res_18): ResBlock(\n",
       "    (conv1): Conv2d(128, 128, kernel_size=(3, 3), stride=(1, 1), padding=(1, 1), bias=False)\n",
       "    (bn1): BatchNorm2d(128, eps=1e-05, momentum=0.1, affine=True, track_running_stats=True)\n",
       "    (conv2): Conv2d(128, 128, kernel_size=(3, 3), stride=(1, 1), padding=(1, 1), bias=False)\n",
       "    (bn2): BatchNorm2d(128, eps=1e-05, momentum=0.1, affine=True, track_running_stats=True)\n",
       "  )\n",
       "  (outblock): OutBlock(\n",
       "    (conv): Conv2d(128, 3, kernel_size=(1, 1), stride=(1, 1))\n",
       "    (bn): BatchNorm2d(3, eps=1e-05, momentum=0.1, affine=True, track_running_stats=True)\n",
       "    (fc1): Linear(in_features=243, out_features=32, bias=True)\n",
       "    (fc2): Linear(in_features=32, out_features=1, bias=True)\n",
       "    (conv1): Conv2d(128, 32, kernel_size=(1, 1), stride=(1, 1))\n",
       "    (bn1): BatchNorm2d(32, eps=1e-05, momentum=0.1, affine=True, track_running_stats=True)\n",
       "    (logsoftmax): LogSoftmax()\n",
       "    (fc): Linear(in_features=2592, out_features=81, bias=True)\n",
       "  )\n",
       ")"
      ]
     },
     "execution_count": 5,
     "metadata": {},
     "output_type": "execute_result"
    }
   ],
   "source": [
    "net.cuda()"
   ]
  },
  {
   "cell_type": "code",
   "execution_count": 6,
   "id": "f4f3a568",
   "metadata": {},
   "outputs": [],
   "source": [
    "with torch.no_grad():\n",
    "    current_board = c_board()\n",
    "    checkmate = False\n",
    "    board_state = copy.deepcopy(ed.encode_board(current_board))"
   ]
  },
  {
   "cell_type": "code",
   "execution_count": 11,
   "id": "b8ba1f88",
   "metadata": {},
   "outputs": [],
   "source": [
    "root = UCTNode(current_board, move=None, parent=DummyNode())"
   ]
  },
  {
   "cell_type": "code",
   "execution_count": 12,
   "id": "502c2f33",
   "metadata": {},
   "outputs": [],
   "source": [
    "leaf = root.select_leaf()"
   ]
  },
  {
   "cell_type": "code",
   "execution_count": 12,
   "id": "851cbbf2",
   "metadata": {},
   "outputs": [],
   "source": [
    "encoded_s = ed.encode_board(leaf.game)\n",
    "encoded_s = encoded_s.transpose(2,0,1)\n",
    "encoded_s = torch.from_numpy(encoded_s).float().cuda()"
   ]
  },
  {
   "cell_type": "code",
   "execution_count": 13,
   "id": "fa01b0ca",
   "metadata": {},
   "outputs": [],
   "source": [
    "child_priors, value_estimate = net(encoded_s)"
   ]
  },
  {
   "cell_type": "code",
   "execution_count": 14,
   "id": "bcca52c4",
   "metadata": {},
   "outputs": [
    {
     "data": {
      "text/plain": [
       "tensor([[0.0193, 0.0040, 0.0075, 0.0174, 0.0051, 0.0087, 0.0133, 0.0299, 0.0164,\n",
       "         0.0120, 0.0039, 0.0099, 0.0259, 0.0093, 0.0139, 0.0290, 0.0123, 0.0220,\n",
       "         0.0064, 0.0097, 0.0107, 0.0080, 0.0092, 0.0080, 0.0113, 0.0185, 0.0071,\n",
       "         0.0173, 0.0112, 0.0144, 0.0077, 0.0039, 0.0087, 0.0095, 0.0082, 0.0142,\n",
       "         0.0167, 0.0056, 0.0119, 0.0195, 0.0044, 0.0109, 0.0115, 0.0160, 0.0072,\n",
       "         0.0120, 0.0191, 0.0163, 0.0083, 0.0083, 0.0135, 0.0130, 0.0099, 0.0139,\n",
       "         0.0086, 0.0081, 0.0074, 0.0119, 0.0296, 0.0076, 0.0172, 0.0145, 0.0085,\n",
       "         0.0127, 0.0086, 0.0097, 0.0069, 0.0063, 0.0101, 0.0153, 0.0282, 0.0142,\n",
       "         0.0121, 0.0169, 0.0261, 0.0104, 0.0052, 0.0106, 0.0083, 0.0127, 0.0103]],\n",
       "       device='cuda:0', grad_fn=<ExpBackward>)"
      ]
     },
     "execution_count": 14,
     "metadata": {},
     "output_type": "execute_result"
    }
   ],
   "source": [
    "child_priors"
   ]
  },
  {
   "cell_type": "code",
   "execution_count": 15,
   "id": "1362369c",
   "metadata": {},
   "outputs": [
    {
     "data": {
      "text/plain": [
       "tensor([[0.2477]], device='cuda:0', grad_fn=<TanhBackward>)"
      ]
     },
     "execution_count": 15,
     "metadata": {},
     "output_type": "execute_result"
    }
   ],
   "source": [
    "value_estimate"
   ]
  },
  {
   "cell_type": "code",
   "execution_count": 16,
   "id": "effebe04",
   "metadata": {},
   "outputs": [],
   "source": [
    "child_priors = child_priors.detach().cpu().numpy().reshape(-1)\n",
    "value_estimate = value_estimate.item()"
   ]
  },
  {
   "cell_type": "code",
   "execution_count": 17,
   "id": "e8c3513b",
   "metadata": {
    "scrolled": true
   },
   "outputs": [
    {
     "data": {
      "text/plain": [
       "array([0.01931141, 0.00399547, 0.00754106, 0.01741103, 0.00509694,\n",
       "       0.00869306, 0.01329077, 0.02989013, 0.01640395, 0.01200403,\n",
       "       0.00390759, 0.00992669, 0.0258514 , 0.00934633, 0.01393697,\n",
       "       0.02898722, 0.0123076 , 0.02197939, 0.00641661, 0.00969115,\n",
       "       0.01065872, 0.00801833, 0.00917212, 0.00803286, 0.0113274 ,\n",
       "       0.01853922, 0.00705141, 0.01734105, 0.01123265, 0.0144056 ,\n",
       "       0.00773642, 0.00387887, 0.00874227, 0.00949395, 0.00824089,\n",
       "       0.01415952, 0.0166562 , 0.00564346, 0.01187098, 0.01945696,\n",
       "       0.00435015, 0.01088819, 0.01153302, 0.01601823, 0.00722278,\n",
       "       0.01196013, 0.01907713, 0.01626409, 0.00827421, 0.00831893,\n",
       "       0.01348134, 0.0130278 , 0.00994574, 0.01394385, 0.00859241,\n",
       "       0.00809268, 0.00742167, 0.01192899, 0.0295674 , 0.00762918,\n",
       "       0.01720848, 0.01454355, 0.00845362, 0.01271035, 0.00860583,\n",
       "       0.00968458, 0.00687341, 0.00628944, 0.01008539, 0.01526313,\n",
       "       0.02819048, 0.01423196, 0.01209819, 0.01694877, 0.02607968,\n",
       "       0.0103583 , 0.00524123, 0.01064007, 0.00827109, 0.01270327,\n",
       "       0.01033336], dtype=float32)"
      ]
     },
     "execution_count": 17,
     "metadata": {},
     "output_type": "execute_result"
    }
   ],
   "source": [
    "child_priors"
   ]
  },
  {
   "cell_type": "code",
   "execution_count": 13,
   "id": "d5e92bbd",
   "metadata": {},
   "outputs": [
    {
     "name": "stdout",
     "output_type": "stream",
     "text": [
      "winner is  None\n"
     ]
    },
    {
     "data": {
      "text/plain": [
       "True"
      ]
     },
     "execution_count": 13,
     "metadata": {},
     "output_type": "execute_result"
    }
   ],
   "source": [
    "leaf.game.check_winner()"
   ]
  },
  {
   "cell_type": "code",
   "execution_count": 16,
   "id": "5a87ec49",
   "metadata": {},
   "outputs": [],
   "source": [
    "def return_winner(winner):\n",
    "    if winner == \"O\" or \"X\":\n",
    "        print(1)\n",
    "        return True\n",
    "    elif winner == \"tie\":\n",
    "        print(2)\n",
    "        return winner\n",
    "    else:\n",
    "        return False"
   ]
  },
  {
   "cell_type": "code",
   "execution_count": null,
   "id": "4df1381f",
   "metadata": {},
   "outputs": [],
   "source": []
  },
  {
   "cell_type": "code",
   "execution_count": 17,
   "id": "0d430c38",
   "metadata": {},
   "outputs": [
    {
     "name": "stdout",
     "output_type": "stream",
     "text": [
      "1\n"
     ]
    },
    {
     "data": {
      "text/plain": [
       "True"
      ]
     },
     "execution_count": 17,
     "metadata": {},
     "output_type": "execute_result"
    }
   ],
   "source": [
    "return_winner(winner=None)"
   ]
  },
  {
   "cell_type": "code",
   "execution_count": 30,
   "id": "2cdcb927",
   "metadata": {},
   "outputs": [
    {
     "data": {
      "text/plain": [
       "array([[' ', ' ', ' '],\n",
       "       [' ', ' ', ' '],\n",
       "       [' ', ' ', ' ']], dtype='<U32')"
      ]
     },
     "execution_count": 30,
     "metadata": {},
     "output_type": "execute_result"
    }
   ],
   "source": [
    "leaf.game.mega_board"
   ]
  },
  {
   "cell_type": "code",
   "execution_count": 20,
   "id": "3dfaf783",
   "metadata": {},
   "outputs": [
    {
     "data": {
      "text/plain": [
       "array([[' ', ' ', ' ', ' ', ' ', ' ', ' ', ' ', ' '],\n",
       "       [' ', ' ', ' ', ' ', ' ', ' ', ' ', ' ', ' '],\n",
       "       [' ', ' ', ' ', ' ', ' ', ' ', ' ', ' ', ' '],\n",
       "       [' ', ' ', ' ', ' ', ' ', ' ', ' ', ' ', ' '],\n",
       "       [' ', ' ', ' ', ' ', ' ', ' ', ' ', ' ', ' '],\n",
       "       [' ', ' ', ' ', ' ', ' ', ' ', ' ', ' ', ' '],\n",
       "       [' ', ' ', ' ', ' ', ' ', ' ', ' ', ' ', ' '],\n",
       "       [' ', ' ', ' ', ' ', ' ', ' ', ' ', ' ', ' '],\n",
       "       [' ', ' ', ' ', ' ', ' ', ' ', ' ', ' ', ' ']], dtype='<U32')"
      ]
     },
     "execution_count": 20,
     "metadata": {},
     "output_type": "execute_result"
    }
   ],
   "source": [
    "leaf.game.current_board"
   ]
  },
  {
   "cell_type": "code",
   "execution_count": 23,
   "id": "7085ca52",
   "metadata": {},
   "outputs": [],
   "source": [
    "y = check_ninebox(leaf.game.mega_board)"
   ]
  },
  {
   "cell_type": "code",
   "execution_count": 24,
   "id": "76049a9d",
   "metadata": {},
   "outputs": [],
   "source": [
    "y"
   ]
  },
  {
   "cell_type": "code",
   "execution_count": 21,
   "id": "35c30bf1",
   "metadata": {},
   "outputs": [],
   "source": [
    "def check_ninebox(mat):\n",
    "    \"\"\"\n",
    "    This function can be use to check the small nine-box \\\n",
    "            or the large nine-box.\n",
    "    input: mat: a matrix of 3x3\n",
    "    \"\"\"\n",
    "    # look for rows, columns, diagnols\n",
    "    for i in range(3):\n",
    "        if mat[i,0] == mat[i,1] == mat[i,2] != ' ':\n",
    "            return mat[i,0]\n",
    "        if mat[0,i] == mat[1,i] == mat[2,i] != ' ':\n",
    "            return mat[0,i]\n",
    "    if mat[0,0] == mat[1,1] == mat[2,2] != ' ':\n",
    "        return mat[0,0]\n",
    "    if mat[0,2] == mat[1,1] == mat[2,0] != ' ':\n",
    "        return mat[1,1]\n",
    "\n",
    "    # look for tie\n",
    "    count = 0\n",
    "    for i in range(3):\n",
    "        for j in range(3):\n",
    "            if mat[i,j] != ' ':\n",
    "                count += 1\n",
    "    if count == 9:\n",
    "        return 'tie'\n",
    "    else:\n",
    "        return None"
   ]
  },
  {
   "cell_type": "code",
   "execution_count": 9,
   "id": "3ad1df70",
   "metadata": {},
   "outputs": [],
   "source": [
    "class UCTNode():\n",
    "    def __init__(self, game, move, parent=None):\n",
    "        self.game = game # state s\n",
    "        self.move = move # action index\n",
    "        self.is_expanded = False\n",
    "        self.parent = parent  \n",
    "        self.children = {}\n",
    "        self.child_priors = np.zeros([81], dtype=np.float32)\n",
    "        self.child_total_value = np.zeros([81], dtype=np.float32)\n",
    "        self.child_number_visits = np.zeros([81], dtype=np.float32)\n",
    "        self.action_idxes = []\n",
    "        \n",
    "    @property\n",
    "    def number_visits(self):\n",
    "        return self.parent.child_number_visits[self.move]\n",
    "\n",
    "    @number_visits.setter\n",
    "    def number_visits(self, value):\n",
    "        self.parent.child_number_visits[self.move] = value\n",
    "    \n",
    "    @property\n",
    "    def total_value(self):\n",
    "        return self.parent.child_total_value[self.move]\n",
    "    \n",
    "    @total_value.setter\n",
    "    def total_value(self, value):\n",
    "        self.parent.child_total_value[self.move] = value\n",
    "    \n",
    "    def child_Q(self):\n",
    "        return self.child_total_value / (1 + self.child_number_visits)\n",
    "    \n",
    "    def child_U(self):\n",
    "        return math.sqrt(self.number_visits) * (\n",
    "            abs(self.child_priors) / (1 + self.child_number_visits))\n",
    "    \n",
    "    def best_child(self):\n",
    "        if self.action_idxes != []:\n",
    "            bestmove = self.child_Q() + self.child_U()\n",
    "            bestmove = self.action_idxes[np.argmax(bestmove[self.action_idxes])]\n",
    "        else:\n",
    "            bestmove = np.argmax(self.child_Q() + self.child_U())\n",
    "        return bestmove\n",
    "    \n",
    "    def select_leaf(self):\n",
    "        current = self\n",
    "        while current.is_expanded:\n",
    "            best_move = current.best_child()\n",
    "            current = current.maybe_add_child(best_move)\n",
    "        return current\n",
    "    \n",
    "    def add_dirichlet_noise(self,action_idxs,child_priors):\n",
    "        valid_child_priors = child_priors[action_idxs] # select only legal moves entries in child_priors array\n",
    "        valid_child_priors = 0.75*valid_child_priors + 0.25*np.random.dirichlet(np.zeros([len(valid_child_priors)], \\\n",
    "                                                                                          dtype=np.float32)+192)\n",
    "        child_priors[action_idxs] = valid_child_priors\n",
    "        return child_priors\n",
    "    \n",
    "    def expand(self, child_priors):\n",
    "        self.is_expanded = True\n",
    "        action_idxs = self.game.actions()\n",
    "        c_p = child_priors\n",
    "        if action_idxs == []:\n",
    "            self.is_expanded = False\n",
    "        self.action_idxes = action_idxs\n",
    "        c_p[[i for i in range(len(child_priors)) if i not in action_idxs]] = 0.000000000 # mask all illegal actions\n",
    "        if self.parent.parent == None: # add dirichlet noise to child_priors in root node\n",
    "            c_p = self.add_dirichlet_noise(action_idxs,c_p)\n",
    "        self.child_priors = c_p\n",
    "    \n",
    "    def decode_n_move_pieces(self,board,move):\n",
    "        board.drop_piece(move)\n",
    "        return board\n",
    "            \n",
    "    def maybe_add_child(self, move):\n",
    "        if move not in self.children:\n",
    "            copy_board = copy.deepcopy(self.game) # make copy of board\n",
    "            copy_board = self.decode_n_move_pieces(copy_board,move)\n",
    "            self.children[move] = UCTNode(\n",
    "              copy_board, move, parent=self)\n",
    "        return self.children[move]\n",
    "    \n",
    "    def backup(self, value_estimate: float):\n",
    "        current = self\n",
    "        while current.parent is not None:\n",
    "            current.number_visits += 1\n",
    "            if current.game.player == 1: # same as current.parent.game.player = 0\n",
    "                current.total_value += (1*value_estimate) # value estimate +1 = O wins\n",
    "            elif current.game.player == 0: # same as current.parent.game.player = 1\n",
    "                current.total_value += (-1*value_estimate)\n",
    "            current = current.parent"
   ]
  },
  {
   "cell_type": "code",
   "execution_count": 10,
   "id": "e0411af0",
   "metadata": {},
   "outputs": [],
   "source": [
    "class DummyNode(object):\n",
    "    def __init__(self):\n",
    "        self.parent = None\n",
    "        self.child_total_value = collections.defaultdict(float)\n",
    "        self.child_number_visits = collections.defaultdict(float)"
   ]
  },
  {
   "cell_type": "code",
   "execution_count": null,
   "id": "7f30865f",
   "metadata": {},
   "outputs": [],
   "source": []
  }
 ],
 "metadata": {
  "kernelspec": {
   "display_name": "Python 3",
   "language": "python",
   "name": "python3"
  },
  "language_info": {
   "codemirror_mode": {
    "name": "ipython",
    "version": 3
   },
   "file_extension": ".py",
   "mimetype": "text/x-python",
   "name": "python",
   "nbconvert_exporter": "python",
   "pygments_lexer": "ipython3",
   "version": "3.7.7"
  }
 },
 "nbformat": 4,
 "nbformat_minor": 5
}
