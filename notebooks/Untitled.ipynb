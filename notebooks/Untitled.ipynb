{
 "cells": [
  {
   "cell_type": "code",
   "execution_count": 1,
   "id": "3e00b937",
   "metadata": {},
   "outputs": [],
   "source": [
    "import sys\n",
    "sys.path.append('../src')"
   ]
  },
  {
   "cell_type": "code",
   "execution_count": 2,
   "id": "a055d8da",
   "metadata": {},
   "outputs": [],
   "source": [
    "import pickle\n",
    "import os\n",
    "import collections\n",
    "import numpy as np\n",
    "import math\n",
    "import encoder_decoder_uttt as ed\n",
    "from utictactoe_board import board as c_board\n",
    "import copy\n",
    "import torch\n",
    "import torch.multiprocessing as mp\n",
    "from alpha_net_uttt import ConnectNet\n",
    "import datetime\n",
    "import logging\n",
    "from tqdm import tqdm"
   ]
  },
  {
   "cell_type": "code",
   "execution_count": 3,
   "id": "e60f8033",
   "metadata": {},
   "outputs": [],
   "source": [
    "net = ConnectNet()"
   ]
  },
  {
   "cell_type": "code",
   "execution_count": 4,
   "id": "5926ec58",
   "metadata": {},
   "outputs": [],
   "source": [
    "cuda = torch.cuda.is_available()"
   ]
  },
  {
   "cell_type": "code",
   "execution_count": 5,
   "id": "065fdae2",
   "metadata": {},
   "outputs": [
    {
     "data": {
      "text/plain": [
       "ConnectNet(\n",
       "  (conv): ConvBlock(\n",
       "    (conv1): Conv2d(3, 128, kernel_size=(3, 3), stride=(1, 1), padding=(1, 1))\n",
       "    (bn1): BatchNorm2d(128, eps=1e-05, momentum=0.1, affine=True, track_running_stats=True)\n",
       "  )\n",
       "  (res_0): ResBlock(\n",
       "    (conv1): Conv2d(128, 128, kernel_size=(3, 3), stride=(1, 1), padding=(1, 1), bias=False)\n",
       "    (bn1): BatchNorm2d(128, eps=1e-05, momentum=0.1, affine=True, track_running_stats=True)\n",
       "    (conv2): Conv2d(128, 128, kernel_size=(3, 3), stride=(1, 1), padding=(1, 1), bias=False)\n",
       "    (bn2): BatchNorm2d(128, eps=1e-05, momentum=0.1, affine=True, track_running_stats=True)\n",
       "  )\n",
       "  (res_1): ResBlock(\n",
       "    (conv1): Conv2d(128, 128, kernel_size=(3, 3), stride=(1, 1), padding=(1, 1), bias=False)\n",
       "    (bn1): BatchNorm2d(128, eps=1e-05, momentum=0.1, affine=True, track_running_stats=True)\n",
       "    (conv2): Conv2d(128, 128, kernel_size=(3, 3), stride=(1, 1), padding=(1, 1), bias=False)\n",
       "    (bn2): BatchNorm2d(128, eps=1e-05, momentum=0.1, affine=True, track_running_stats=True)\n",
       "  )\n",
       "  (res_2): ResBlock(\n",
       "    (conv1): Conv2d(128, 128, kernel_size=(3, 3), stride=(1, 1), padding=(1, 1), bias=False)\n",
       "    (bn1): BatchNorm2d(128, eps=1e-05, momentum=0.1, affine=True, track_running_stats=True)\n",
       "    (conv2): Conv2d(128, 128, kernel_size=(3, 3), stride=(1, 1), padding=(1, 1), bias=False)\n",
       "    (bn2): BatchNorm2d(128, eps=1e-05, momentum=0.1, affine=True, track_running_stats=True)\n",
       "  )\n",
       "  (res_3): ResBlock(\n",
       "    (conv1): Conv2d(128, 128, kernel_size=(3, 3), stride=(1, 1), padding=(1, 1), bias=False)\n",
       "    (bn1): BatchNorm2d(128, eps=1e-05, momentum=0.1, affine=True, track_running_stats=True)\n",
       "    (conv2): Conv2d(128, 128, kernel_size=(3, 3), stride=(1, 1), padding=(1, 1), bias=False)\n",
       "    (bn2): BatchNorm2d(128, eps=1e-05, momentum=0.1, affine=True, track_running_stats=True)\n",
       "  )\n",
       "  (res_4): ResBlock(\n",
       "    (conv1): Conv2d(128, 128, kernel_size=(3, 3), stride=(1, 1), padding=(1, 1), bias=False)\n",
       "    (bn1): BatchNorm2d(128, eps=1e-05, momentum=0.1, affine=True, track_running_stats=True)\n",
       "    (conv2): Conv2d(128, 128, kernel_size=(3, 3), stride=(1, 1), padding=(1, 1), bias=False)\n",
       "    (bn2): BatchNorm2d(128, eps=1e-05, momentum=0.1, affine=True, track_running_stats=True)\n",
       "  )\n",
       "  (res_5): ResBlock(\n",
       "    (conv1): Conv2d(128, 128, kernel_size=(3, 3), stride=(1, 1), padding=(1, 1), bias=False)\n",
       "    (bn1): BatchNorm2d(128, eps=1e-05, momentum=0.1, affine=True, track_running_stats=True)\n",
       "    (conv2): Conv2d(128, 128, kernel_size=(3, 3), stride=(1, 1), padding=(1, 1), bias=False)\n",
       "    (bn2): BatchNorm2d(128, eps=1e-05, momentum=0.1, affine=True, track_running_stats=True)\n",
       "  )\n",
       "  (res_6): ResBlock(\n",
       "    (conv1): Conv2d(128, 128, kernel_size=(3, 3), stride=(1, 1), padding=(1, 1), bias=False)\n",
       "    (bn1): BatchNorm2d(128, eps=1e-05, momentum=0.1, affine=True, track_running_stats=True)\n",
       "    (conv2): Conv2d(128, 128, kernel_size=(3, 3), stride=(1, 1), padding=(1, 1), bias=False)\n",
       "    (bn2): BatchNorm2d(128, eps=1e-05, momentum=0.1, affine=True, track_running_stats=True)\n",
       "  )\n",
       "  (res_7): ResBlock(\n",
       "    (conv1): Conv2d(128, 128, kernel_size=(3, 3), stride=(1, 1), padding=(1, 1), bias=False)\n",
       "    (bn1): BatchNorm2d(128, eps=1e-05, momentum=0.1, affine=True, track_running_stats=True)\n",
       "    (conv2): Conv2d(128, 128, kernel_size=(3, 3), stride=(1, 1), padding=(1, 1), bias=False)\n",
       "    (bn2): BatchNorm2d(128, eps=1e-05, momentum=0.1, affine=True, track_running_stats=True)\n",
       "  )\n",
       "  (res_8): ResBlock(\n",
       "    (conv1): Conv2d(128, 128, kernel_size=(3, 3), stride=(1, 1), padding=(1, 1), bias=False)\n",
       "    (bn1): BatchNorm2d(128, eps=1e-05, momentum=0.1, affine=True, track_running_stats=True)\n",
       "    (conv2): Conv2d(128, 128, kernel_size=(3, 3), stride=(1, 1), padding=(1, 1), bias=False)\n",
       "    (bn2): BatchNorm2d(128, eps=1e-05, momentum=0.1, affine=True, track_running_stats=True)\n",
       "  )\n",
       "  (res_9): ResBlock(\n",
       "    (conv1): Conv2d(128, 128, kernel_size=(3, 3), stride=(1, 1), padding=(1, 1), bias=False)\n",
       "    (bn1): BatchNorm2d(128, eps=1e-05, momentum=0.1, affine=True, track_running_stats=True)\n",
       "    (conv2): Conv2d(128, 128, kernel_size=(3, 3), stride=(1, 1), padding=(1, 1), bias=False)\n",
       "    (bn2): BatchNorm2d(128, eps=1e-05, momentum=0.1, affine=True, track_running_stats=True)\n",
       "  )\n",
       "  (res_10): ResBlock(\n",
       "    (conv1): Conv2d(128, 128, kernel_size=(3, 3), stride=(1, 1), padding=(1, 1), bias=False)\n",
       "    (bn1): BatchNorm2d(128, eps=1e-05, momentum=0.1, affine=True, track_running_stats=True)\n",
       "    (conv2): Conv2d(128, 128, kernel_size=(3, 3), stride=(1, 1), padding=(1, 1), bias=False)\n",
       "    (bn2): BatchNorm2d(128, eps=1e-05, momentum=0.1, affine=True, track_running_stats=True)\n",
       "  )\n",
       "  (res_11): ResBlock(\n",
       "    (conv1): Conv2d(128, 128, kernel_size=(3, 3), stride=(1, 1), padding=(1, 1), bias=False)\n",
       "    (bn1): BatchNorm2d(128, eps=1e-05, momentum=0.1, affine=True, track_running_stats=True)\n",
       "    (conv2): Conv2d(128, 128, kernel_size=(3, 3), stride=(1, 1), padding=(1, 1), bias=False)\n",
       "    (bn2): BatchNorm2d(128, eps=1e-05, momentum=0.1, affine=True, track_running_stats=True)\n",
       "  )\n",
       "  (res_12): ResBlock(\n",
       "    (conv1): Conv2d(128, 128, kernel_size=(3, 3), stride=(1, 1), padding=(1, 1), bias=False)\n",
       "    (bn1): BatchNorm2d(128, eps=1e-05, momentum=0.1, affine=True, track_running_stats=True)\n",
       "    (conv2): Conv2d(128, 128, kernel_size=(3, 3), stride=(1, 1), padding=(1, 1), bias=False)\n",
       "    (bn2): BatchNorm2d(128, eps=1e-05, momentum=0.1, affine=True, track_running_stats=True)\n",
       "  )\n",
       "  (res_13): ResBlock(\n",
       "    (conv1): Conv2d(128, 128, kernel_size=(3, 3), stride=(1, 1), padding=(1, 1), bias=False)\n",
       "    (bn1): BatchNorm2d(128, eps=1e-05, momentum=0.1, affine=True, track_running_stats=True)\n",
       "    (conv2): Conv2d(128, 128, kernel_size=(3, 3), stride=(1, 1), padding=(1, 1), bias=False)\n",
       "    (bn2): BatchNorm2d(128, eps=1e-05, momentum=0.1, affine=True, track_running_stats=True)\n",
       "  )\n",
       "  (res_14): ResBlock(\n",
       "    (conv1): Conv2d(128, 128, kernel_size=(3, 3), stride=(1, 1), padding=(1, 1), bias=False)\n",
       "    (bn1): BatchNorm2d(128, eps=1e-05, momentum=0.1, affine=True, track_running_stats=True)\n",
       "    (conv2): Conv2d(128, 128, kernel_size=(3, 3), stride=(1, 1), padding=(1, 1), bias=False)\n",
       "    (bn2): BatchNorm2d(128, eps=1e-05, momentum=0.1, affine=True, track_running_stats=True)\n",
       "  )\n",
       "  (res_15): ResBlock(\n",
       "    (conv1): Conv2d(128, 128, kernel_size=(3, 3), stride=(1, 1), padding=(1, 1), bias=False)\n",
       "    (bn1): BatchNorm2d(128, eps=1e-05, momentum=0.1, affine=True, track_running_stats=True)\n",
       "    (conv2): Conv2d(128, 128, kernel_size=(3, 3), stride=(1, 1), padding=(1, 1), bias=False)\n",
       "    (bn2): BatchNorm2d(128, eps=1e-05, momentum=0.1, affine=True, track_running_stats=True)\n",
       "  )\n",
       "  (res_16): ResBlock(\n",
       "    (conv1): Conv2d(128, 128, kernel_size=(3, 3), stride=(1, 1), padding=(1, 1), bias=False)\n",
       "    (bn1): BatchNorm2d(128, eps=1e-05, momentum=0.1, affine=True, track_running_stats=True)\n",
       "    (conv2): Conv2d(128, 128, kernel_size=(3, 3), stride=(1, 1), padding=(1, 1), bias=False)\n",
       "    (bn2): BatchNorm2d(128, eps=1e-05, momentum=0.1, affine=True, track_running_stats=True)\n",
       "  )\n",
       "  (res_17): ResBlock(\n",
       "    (conv1): Conv2d(128, 128, kernel_size=(3, 3), stride=(1, 1), padding=(1, 1), bias=False)\n",
       "    (bn1): BatchNorm2d(128, eps=1e-05, momentum=0.1, affine=True, track_running_stats=True)\n",
       "    (conv2): Conv2d(128, 128, kernel_size=(3, 3), stride=(1, 1), padding=(1, 1), bias=False)\n",
       "    (bn2): BatchNorm2d(128, eps=1e-05, momentum=0.1, affine=True, track_running_stats=True)\n",
       "  )\n",
       "  (res_18): ResBlock(\n",
       "    (conv1): Conv2d(128, 128, kernel_size=(3, 3), stride=(1, 1), padding=(1, 1), bias=False)\n",
       "    (bn1): BatchNorm2d(128, eps=1e-05, momentum=0.1, affine=True, track_running_stats=True)\n",
       "    (conv2): Conv2d(128, 128, kernel_size=(3, 3), stride=(1, 1), padding=(1, 1), bias=False)\n",
       "    (bn2): BatchNorm2d(128, eps=1e-05, momentum=0.1, affine=True, track_running_stats=True)\n",
       "  )\n",
       "  (outblock): OutBlock(\n",
       "    (conv): Conv2d(128, 3, kernel_size=(1, 1), stride=(1, 1))\n",
       "    (bn): BatchNorm2d(3, eps=1e-05, momentum=0.1, affine=True, track_running_stats=True)\n",
       "    (fc1): Linear(in_features=243, out_features=32, bias=True)\n",
       "    (fc2): Linear(in_features=32, out_features=1, bias=True)\n",
       "    (conv1): Conv2d(128, 32, kernel_size=(1, 1), stride=(1, 1))\n",
       "    (bn1): BatchNorm2d(32, eps=1e-05, momentum=0.1, affine=True, track_running_stats=True)\n",
       "    (logsoftmax): LogSoftmax()\n",
       "    (fc): Linear(in_features=2592, out_features=81, bias=True)\n",
       "  )\n",
       ")"
      ]
     },
     "execution_count": 5,
     "metadata": {},
     "output_type": "execute_result"
    }
   ],
   "source": [
    "net.cuda()"
   ]
  },
  {
   "cell_type": "code",
   "execution_count": 6,
   "id": "b54ec063",
   "metadata": {},
   "outputs": [],
   "source": [
    "with torch.no_grad():\n",
    "    current_board = c_board()\n",
    "    checkmate = False\n",
    "    board_state = copy.deepcopy(ed.encode_board(current_board))"
   ]
  },
  {
   "cell_type": "code",
   "execution_count": 9,
   "id": "dedaf7e4",
   "metadata": {},
   "outputs": [],
   "source": [
    "root = UCTNode(current_board, move=None, parent=DummyNode())"
   ]
  },
  {
   "cell_type": "code",
   "execution_count": 14,
   "id": "4bd63384",
   "metadata": {},
   "outputs": [],
   "source": [
    "leaf = root.select_leaf()"
   ]
  },
  {
   "cell_type": "code",
   "execution_count": 15,
   "id": "bfac7ab5",
   "metadata": {},
   "outputs": [],
   "source": [
    "encoded_s = ed.encode_board(leaf.game)\n",
    "encoded_s = encoded_s.transpose(2,0,1)\n",
    "encoded_s = torch.from_numpy(encoded_s).float().cuda()"
   ]
  },
  {
   "cell_type": "code",
   "execution_count": 16,
   "id": "5c5fc88a",
   "metadata": {},
   "outputs": [],
   "source": [
    "child_priors, value_estimate = net(encoded_s)"
   ]
  },
  {
   "cell_type": "code",
   "execution_count": 17,
   "id": "e9fea5d4",
   "metadata": {},
   "outputs": [
    {
     "data": {
      "text/plain": [
       "tensor([[0.0113, 0.0064, 0.0076, 0.0123, 0.0167, 0.0103, 0.0115, 0.0106, 0.0152,\n",
       "         0.0114, 0.0097, 0.0123, 0.0084, 0.0258, 0.0175, 0.0090, 0.0073, 0.0045,\n",
       "         0.0178, 0.0372, 0.0110, 0.0083, 0.0079, 0.0071, 0.0168, 0.0101, 0.0083,\n",
       "         0.0076, 0.0083, 0.0180, 0.0155, 0.0087, 0.0071, 0.0135, 0.0170, 0.0087,\n",
       "         0.0065, 0.0158, 0.0210, 0.0129, 0.0068, 0.0075, 0.0081, 0.0076, 0.0175,\n",
       "         0.0050, 0.0143, 0.0105, 0.0251, 0.0097, 0.0181, 0.0129, 0.0187, 0.0224,\n",
       "         0.0110, 0.0144, 0.0223, 0.0066, 0.0189, 0.0089, 0.0099, 0.0066, 0.0134,\n",
       "         0.0064, 0.0189, 0.0087, 0.0071, 0.0080, 0.0111, 0.0139, 0.0181, 0.0057,\n",
       "         0.0103, 0.0042, 0.0178, 0.0069, 0.0113, 0.0072, 0.0128, 0.0165, 0.0259]],\n",
       "       device='cuda:0', grad_fn=<ExpBackward>)"
      ]
     },
     "execution_count": 17,
     "metadata": {},
     "output_type": "execute_result"
    }
   ],
   "source": [
    "child_priors"
   ]
  },
  {
   "cell_type": "code",
   "execution_count": 18,
   "id": "856e8ac2",
   "metadata": {},
   "outputs": [
    {
     "data": {
      "text/plain": [
       "tensor([[-0.1647]], device='cuda:0', grad_fn=<TanhBackward>)"
      ]
     },
     "execution_count": 18,
     "metadata": {},
     "output_type": "execute_result"
    }
   ],
   "source": [
    "value_estimate"
   ]
  },
  {
   "cell_type": "code",
   "execution_count": 19,
   "id": "6d13c90e",
   "metadata": {},
   "outputs": [],
   "source": [
    "child_priors = child_priors.detach().cpu().numpy().reshape(-1)\n",
    "value_estimate = value_estimate.item()"
   ]
  },
  {
   "cell_type": "code",
   "execution_count": 20,
   "id": "3c9fb199",
   "metadata": {
    "scrolled": true
   },
   "outputs": [
    {
     "data": {
      "text/plain": [
       "array([0.01127057, 0.00641429, 0.00762172, 0.012283  , 0.01674675,\n",
       "       0.01034931, 0.01145779, 0.01059688, 0.01524623, 0.01144383,\n",
       "       0.00971424, 0.01228233, 0.00839466, 0.02583111, 0.01750324,\n",
       "       0.00898575, 0.00730001, 0.00446371, 0.0177677 , 0.03717604,\n",
       "       0.01102446, 0.00833959, 0.00794205, 0.00714903, 0.01684039,\n",
       "       0.0100558 , 0.00825702, 0.00756053, 0.00825731, 0.01798186,\n",
       "       0.01550732, 0.00871139, 0.00706415, 0.01352002, 0.0170088 ,\n",
       "       0.00872987, 0.00650245, 0.01579166, 0.02098247, 0.01290449,\n",
       "       0.00679153, 0.00745083, 0.00809259, 0.00755052, 0.01748762,\n",
       "       0.00498794, 0.01433045, 0.01052347, 0.02508257, 0.00971188,\n",
       "       0.01807436, 0.0129144 , 0.0187206 , 0.02244591, 0.01103003,\n",
       "       0.01443   , 0.02225366, 0.00656632, 0.01892641, 0.00894512,\n",
       "       0.00993539, 0.00657042, 0.01340808, 0.0064424 , 0.01889094,\n",
       "       0.00870549, 0.00709207, 0.00800012, 0.01107017, 0.01385787,\n",
       "       0.01813106, 0.00573949, 0.01027886, 0.00417075, 0.01780604,\n",
       "       0.00693362, 0.01125294, 0.00718572, 0.01279536, 0.01651963,\n",
       "       0.02591748], dtype=float32)"
      ]
     },
     "execution_count": 20,
     "metadata": {},
     "output_type": "execute_result"
    }
   ],
   "source": [
    "child_priors"
   ]
  },
  {
   "cell_type": "code",
   "execution_count": 11,
   "id": "585ee50f",
   "metadata": {},
   "outputs": [
    {
     "data": {
      "text/plain": [
       "False"
      ]
     },
     "execution_count": 11,
     "metadata": {},
     "output_type": "execute_result"
    }
   ],
   "source": [
    "leaf.game.check_winner()"
   ]
  },
  {
   "cell_type": "code",
   "execution_count": 12,
   "id": "98a47b31",
   "metadata": {},
   "outputs": [
    {
     "data": {
      "text/plain": [
       "[(6, 6), (6, 7), (6, 8), (7, 6), (7, 7), (7, 8), (8, 6), (8, 7), (8, 8)]"
      ]
     },
     "execution_count": 12,
     "metadata": {},
     "output_type": "execute_result"
    }
   ],
   "source": [
    "leaf.game.actions()"
   ]
  },
  {
   "cell_type": "code",
   "execution_count": 25,
   "id": "bcf5f256",
   "metadata": {},
   "outputs": [],
   "source": [
    "valid_moves = leaf.game.actions()"
   ]
  },
  {
   "cell_type": "code",
   "execution_count": 26,
   "id": "45f3f887",
   "metadata": {},
   "outputs": [
    {
     "name": "stderr",
     "output_type": "stream",
     "text": [
      "/home/sf/Applications/anaconda3/envs/torchenv/lib/python3.7/site-packages/ipykernel_launcher.py:1: FutureWarning: Using a non-tuple sequence for multidimensional indexing is deprecated; use `arr[tuple(seq)]` instead of `arr[seq]`. In the future this will be interpreted as an array index, `arr[np.array(seq)]`, which will result either in an error or a different result.\n",
      "  \"\"\"Entry point for launching an IPython kernel.\n"
     ]
    },
    {
     "ename": "IndexError",
     "evalue": "too many indices for array",
     "output_type": "error",
     "traceback": [
      "\u001b[0;31m---------------------------------------------------------------------------\u001b[0m",
      "\u001b[0;31mIndexError\u001b[0m                                Traceback (most recent call last)",
      "\u001b[0;32m<ipython-input-26-7ee4eb3194f4>\u001b[0m in \u001b[0;36m<module>\u001b[0;34m\u001b[0m\n\u001b[0;32m----> 1\u001b[0;31m \u001b[0mchild_priors\u001b[0m\u001b[0;34m[\u001b[0m\u001b[0mvalid_moves\u001b[0m\u001b[0;34m]\u001b[0m\u001b[0;34m\u001b[0m\u001b[0;34m\u001b[0m\u001b[0m\n\u001b[0m",
      "\u001b[0;31mIndexError\u001b[0m: too many indices for array"
     ]
    }
   ],
   "source": [
    "child_priors[valid_moves]"
   ]
  },
  {
   "cell_type": "code",
   "execution_count": 22,
   "id": "a787c73e",
   "metadata": {},
   "outputs": [],
   "source": [
    "c_p = child_priors\n",
    "action_idxs = leaf.game.actions()\n",
    "c_p[[i for i in range(len(child_priors)) if i not in action_idxs]] = 0.000000000"
   ]
  },
  {
   "cell_type": "code",
   "execution_count": 23,
   "id": "e985155e",
   "metadata": {
    "scrolled": true
   },
   "outputs": [
    {
     "data": {
      "text/plain": [
       "array([0., 0., 0., 0., 0., 0., 0., 0., 0., 0., 0., 0., 0., 0., 0., 0., 0.,\n",
       "       0., 0., 0., 0., 0., 0., 0., 0., 0., 0., 0., 0., 0., 0., 0., 0., 0.,\n",
       "       0., 0., 0., 0., 0., 0., 0., 0., 0., 0., 0., 0., 0., 0., 0., 0., 0.,\n",
       "       0., 0., 0., 0., 0., 0., 0., 0., 0., 0., 0., 0., 0., 0., 0., 0., 0.,\n",
       "       0., 0., 0., 0., 0., 0., 0., 0., 0., 0., 0., 0., 0.], dtype=float32)"
      ]
     },
     "execution_count": 23,
     "metadata": {},
     "output_type": "execute_result"
    }
   ],
   "source": [
    "c_p"
   ]
  },
  {
   "cell_type": "code",
   "execution_count": 24,
   "id": "b929162a",
   "metadata": {},
   "outputs": [
    {
     "ename": "IndexError",
     "evalue": "too many indices for array",
     "output_type": "error",
     "traceback": [
      "\u001b[0;31m---------------------------------------------------------------------------\u001b[0m",
      "\u001b[0;31mIndexError\u001b[0m                                Traceback (most recent call last)",
      "\u001b[0;32m<ipython-input-24-e4b1fb70c509>\u001b[0m in \u001b[0;36m<module>\u001b[0;34m\u001b[0m\n\u001b[0;32m----> 1\u001b[0;31m \u001b[0mchild_priors\u001b[0m\u001b[0;34m[\u001b[0m\u001b[0;34m(\u001b[0m\u001b[0;36m6\u001b[0m\u001b[0;34m,\u001b[0m\u001b[0;36m6\u001b[0m\u001b[0;34m)\u001b[0m\u001b[0;34m]\u001b[0m\u001b[0;34m\u001b[0m\u001b[0;34m\u001b[0m\u001b[0m\n\u001b[0m",
      "\u001b[0;31mIndexError\u001b[0m: too many indices for array"
     ]
    }
   ],
   "source": [
    "child_priors[(6,6)]"
   ]
  },
  {
   "cell_type": "code",
   "execution_count": 21,
   "id": "ac931664",
   "metadata": {},
   "outputs": [
    {
     "name": "stderr",
     "output_type": "stream",
     "text": [
      "/home/sf/Applications/anaconda3/envs/torchenv/lib/python3.7/site-packages/ipykernel_launcher.py:52: FutureWarning: Using a non-tuple sequence for multidimensional indexing is deprecated; use `arr[tuple(seq)]` instead of `arr[seq]`. In the future this will be interpreted as an array index, `arr[np.array(seq)]`, which will result either in an error or a different result.\n"
     ]
    },
    {
     "ename": "IndexError",
     "evalue": "too many indices for array",
     "output_type": "error",
     "traceback": [
      "\u001b[0;31m---------------------------------------------------------------------------\u001b[0m",
      "\u001b[0;31mIndexError\u001b[0m                                Traceback (most recent call last)",
      "\u001b[0;32m<ipython-input-21-345ab4880b50>\u001b[0m in \u001b[0;36m<module>\u001b[0;34m\u001b[0m\n\u001b[0;32m----> 1\u001b[0;31m \u001b[0mleaf\u001b[0m\u001b[0;34m.\u001b[0m\u001b[0mexpand\u001b[0m\u001b[0;34m(\u001b[0m\u001b[0mchild_priors\u001b[0m\u001b[0;34m)\u001b[0m\u001b[0;34m\u001b[0m\u001b[0;34m\u001b[0m\u001b[0m\n\u001b[0m",
      "\u001b[0;32m<ipython-input-7-72034935b50a>\u001b[0m in \u001b[0;36mexpand\u001b[0;34m(self, child_priors)\u001b[0m\n\u001b[1;32m     65\u001b[0m         \u001b[0mc_p\u001b[0m\u001b[0;34m[\u001b[0m\u001b[0;34m[\u001b[0m\u001b[0mi\u001b[0m \u001b[0;32mfor\u001b[0m \u001b[0mi\u001b[0m \u001b[0;32min\u001b[0m \u001b[0mrange\u001b[0m\u001b[0;34m(\u001b[0m\u001b[0mlen\u001b[0m\u001b[0;34m(\u001b[0m\u001b[0mchild_priors\u001b[0m\u001b[0;34m)\u001b[0m\u001b[0;34m)\u001b[0m \u001b[0;32mif\u001b[0m \u001b[0mi\u001b[0m \u001b[0;32mnot\u001b[0m \u001b[0;32min\u001b[0m \u001b[0maction_idxs\u001b[0m\u001b[0;34m]\u001b[0m\u001b[0;34m]\u001b[0m \u001b[0;34m=\u001b[0m \u001b[0;36m0.000000000\u001b[0m \u001b[0;31m# mask all illegal actions\u001b[0m\u001b[0;34m\u001b[0m\u001b[0;34m\u001b[0m\u001b[0m\n\u001b[1;32m     66\u001b[0m         \u001b[0;32mif\u001b[0m \u001b[0mself\u001b[0m\u001b[0;34m.\u001b[0m\u001b[0mparent\u001b[0m\u001b[0;34m.\u001b[0m\u001b[0mparent\u001b[0m \u001b[0;34m==\u001b[0m \u001b[0;32mNone\u001b[0m\u001b[0;34m:\u001b[0m \u001b[0;31m# add dirichlet noise to child_priors in root node\u001b[0m\u001b[0;34m\u001b[0m\u001b[0;34m\u001b[0m\u001b[0m\n\u001b[0;32m---> 67\u001b[0;31m             \u001b[0mc_p\u001b[0m \u001b[0;34m=\u001b[0m \u001b[0mself\u001b[0m\u001b[0;34m.\u001b[0m\u001b[0madd_dirichlet_noise\u001b[0m\u001b[0;34m(\u001b[0m\u001b[0maction_idxs\u001b[0m\u001b[0;34m,\u001b[0m\u001b[0mc_p\u001b[0m\u001b[0;34m)\u001b[0m\u001b[0;34m\u001b[0m\u001b[0;34m\u001b[0m\u001b[0m\n\u001b[0m\u001b[1;32m     68\u001b[0m         \u001b[0mself\u001b[0m\u001b[0;34m.\u001b[0m\u001b[0mchild_priors\u001b[0m \u001b[0;34m=\u001b[0m \u001b[0mc_p\u001b[0m\u001b[0;34m\u001b[0m\u001b[0;34m\u001b[0m\u001b[0m\n\u001b[1;32m     69\u001b[0m \u001b[0;34m\u001b[0m\u001b[0m\n",
      "\u001b[0;32m<ipython-input-7-72034935b50a>\u001b[0m in \u001b[0;36madd_dirichlet_noise\u001b[0;34m(self, action_idxs, child_priors)\u001b[0m\n\u001b[1;32m     50\u001b[0m \u001b[0;34m\u001b[0m\u001b[0m\n\u001b[1;32m     51\u001b[0m     \u001b[0;32mdef\u001b[0m \u001b[0madd_dirichlet_noise\u001b[0m\u001b[0;34m(\u001b[0m\u001b[0mself\u001b[0m\u001b[0;34m,\u001b[0m\u001b[0maction_idxs\u001b[0m\u001b[0;34m,\u001b[0m\u001b[0mchild_priors\u001b[0m\u001b[0;34m)\u001b[0m\u001b[0;34m:\u001b[0m\u001b[0;34m\u001b[0m\u001b[0;34m\u001b[0m\u001b[0m\n\u001b[0;32m---> 52\u001b[0;31m         \u001b[0mvalid_child_priors\u001b[0m \u001b[0;34m=\u001b[0m \u001b[0mchild_priors\u001b[0m\u001b[0;34m[\u001b[0m\u001b[0maction_idxs\u001b[0m\u001b[0;34m]\u001b[0m \u001b[0;31m# select only legal moves entries in child_priors array\u001b[0m\u001b[0;34m\u001b[0m\u001b[0;34m\u001b[0m\u001b[0m\n\u001b[0m\u001b[1;32m     53\u001b[0m         valid_child_priors = 0.75*valid_child_priors + 0.25*np.random.dirichlet(np.zeros([len(valid_child_priors)], \\\n\u001b[1;32m     54\u001b[0m                                                                                           dtype=np.float32)+192)\n",
      "\u001b[0;31mIndexError\u001b[0m: too many indices for array"
     ]
    }
   ],
   "source": [
    "leaf.expand(child_priors)"
   ]
  },
  {
   "cell_type": "code",
   "execution_count": 21,
   "id": "fa4404a0",
   "metadata": {},
   "outputs": [],
   "source": [
    "def return_winner(winner):\n",
    "    if winner == \"O\" or winner == \"X\":\n",
    "        print(1)\n",
    "        return True\n",
    "    elif winner == \"tie\":\n",
    "        print(2)\n",
    "        return winner\n",
    "    else:\n",
    "        return False"
   ]
  },
  {
   "cell_type": "code",
   "execution_count": 22,
   "id": "65369e27",
   "metadata": {},
   "outputs": [],
   "source": [
    "winner = None"
   ]
  },
  {
   "cell_type": "code",
   "execution_count": 20,
   "id": "7c7a2976",
   "metadata": {},
   "outputs": [
    {
     "data": {
      "text/plain": [
       "'X'"
      ]
     },
     "execution_count": 20,
     "metadata": {},
     "output_type": "execute_result"
    }
   ],
   "source": [
    "winner == \"O\" or \"X\""
   ]
  },
  {
   "cell_type": "code",
   "execution_count": 23,
   "id": "fe059b7e",
   "metadata": {},
   "outputs": [
    {
     "data": {
      "text/plain": [
       "False"
      ]
     },
     "execution_count": 23,
     "metadata": {},
     "output_type": "execute_result"
    }
   ],
   "source": [
    "return_winner(winner=None)"
   ]
  },
  {
   "cell_type": "code",
   "execution_count": 30,
   "id": "2aebfdec",
   "metadata": {},
   "outputs": [
    {
     "data": {
      "text/plain": [
       "array([[' ', ' ', ' '],\n",
       "       [' ', ' ', ' '],\n",
       "       [' ', ' ', ' ']], dtype='<U32')"
      ]
     },
     "execution_count": 30,
     "metadata": {},
     "output_type": "execute_result"
    }
   ],
   "source": [
    "leaf.game.mega_board"
   ]
  },
  {
   "cell_type": "code",
   "execution_count": 20,
   "id": "0c399a3f",
   "metadata": {},
   "outputs": [
    {
     "data": {
      "text/plain": [
       "array([[' ', ' ', ' ', ' ', ' ', ' ', ' ', ' ', ' '],\n",
       "       [' ', ' ', ' ', ' ', ' ', ' ', ' ', ' ', ' '],\n",
       "       [' ', ' ', ' ', ' ', ' ', ' ', ' ', ' ', ' '],\n",
       "       [' ', ' ', ' ', ' ', ' ', ' ', ' ', ' ', ' '],\n",
       "       [' ', ' ', ' ', ' ', ' ', ' ', ' ', ' ', ' '],\n",
       "       [' ', ' ', ' ', ' ', ' ', ' ', ' ', ' ', ' '],\n",
       "       [' ', ' ', ' ', ' ', ' ', ' ', ' ', ' ', ' '],\n",
       "       [' ', ' ', ' ', ' ', ' ', ' ', ' ', ' ', ' '],\n",
       "       [' ', ' ', ' ', ' ', ' ', ' ', ' ', ' ', ' ']], dtype='<U32')"
      ]
     },
     "execution_count": 20,
     "metadata": {},
     "output_type": "execute_result"
    }
   ],
   "source": [
    "leaf.game.current_board"
   ]
  },
  {
   "cell_type": "code",
   "execution_count": 23,
   "id": "48eb6e58",
   "metadata": {},
   "outputs": [],
   "source": [
    "y = check_ninebox(leaf.game.mega_board)"
   ]
  },
  {
   "cell_type": "code",
   "execution_count": 24,
   "id": "ad6983d4",
   "metadata": {},
   "outputs": [],
   "source": [
    "y"
   ]
  },
  {
   "cell_type": "code",
   "execution_count": 21,
   "id": "d37dedb4",
   "metadata": {},
   "outputs": [],
   "source": [
    "def check_ninebox(mat):\n",
    "    \"\"\"\n",
    "    This function can be use to check the small nine-box \\\n",
    "            or the large nine-box.\n",
    "    input: mat: a matrix of 3x3\n",
    "    \"\"\"\n",
    "    # look for rows, columns, diagnols\n",
    "    for i in range(3):\n",
    "        if mat[i,0] == mat[i,1] == mat[i,2] != ' ':\n",
    "            return mat[i,0]\n",
    "        if mat[0,i] == mat[1,i] == mat[2,i] != ' ':\n",
    "            return mat[0,i]\n",
    "    if mat[0,0] == mat[1,1] == mat[2,2] != ' ':\n",
    "        return mat[0,0]\n",
    "    if mat[0,2] == mat[1,1] == mat[2,0] != ' ':\n",
    "        return mat[1,1]\n",
    "\n",
    "    # look for tie\n",
    "    count = 0\n",
    "    for i in range(3):\n",
    "        for j in range(3):\n",
    "            if mat[i,j] != ' ':\n",
    "                count += 1\n",
    "    if count == 9:\n",
    "        return 'tie'\n",
    "    else:\n",
    "        return None"
   ]
  },
  {
   "cell_type": "code",
   "execution_count": 7,
   "id": "5ec99ae6",
   "metadata": {},
   "outputs": [],
   "source": [
    "class UCTNode():\n",
    "    def __init__(self, game, move, parent=None):\n",
    "        self.game = game # state s\n",
    "        self.move = move # action index\n",
    "        self.is_expanded = False\n",
    "        self.parent = parent  \n",
    "        self.children = {}\n",
    "        self.child_priors = np.zeros([81], dtype=np.float32)\n",
    "        self.child_total_value = np.zeros([81], dtype=np.float32)\n",
    "        self.child_number_visits = np.zeros([81], dtype=np.float32)\n",
    "        self.action_idxes = []\n",
    "        \n",
    "    @property\n",
    "    def number_visits(self):\n",
    "        return self.parent.child_number_visits[self.move]\n",
    "\n",
    "    @number_visits.setter\n",
    "    def number_visits(self, value):\n",
    "        self.parent.child_number_visits[self.move] = value\n",
    "    \n",
    "    @property\n",
    "    def total_value(self):\n",
    "        return self.parent.child_total_value[self.move]\n",
    "    \n",
    "    @total_value.setter\n",
    "    def total_value(self, value):\n",
    "        self.parent.child_total_value[self.move] = value\n",
    "    \n",
    "    def child_Q(self):\n",
    "        return self.child_total_value / (1 + self.child_number_visits)\n",
    "    \n",
    "    def child_U(self):\n",
    "        return math.sqrt(self.number_visits) * (\n",
    "            abs(self.child_priors) / (1 + self.child_number_visits))\n",
    "    \n",
    "    def best_child(self):\n",
    "        if self.action_idxes != []:\n",
    "            bestmove = self.child_Q() + self.child_U()\n",
    "            bestmove = self.action_idxes[np.argmax(bestmove[self.action_idxes])]\n",
    "        else:\n",
    "            bestmove = np.argmax(self.child_Q() + self.child_U())\n",
    "        return bestmove\n",
    "    \n",
    "    def select_leaf(self):\n",
    "        current = self\n",
    "        while current.is_expanded:\n",
    "            best_move = current.best_child()\n",
    "            current = current.maybe_add_child(best_move)\n",
    "        return current\n",
    "    \n",
    "    def add_dirichlet_noise(self,action_idxs,child_priors):\n",
    "        valid_child_priors = child_priors[action_idxs] # select only legal moves entries in child_priors array\n",
    "        valid_child_priors = 0.75*valid_child_priors + 0.25*np.random.dirichlet(np.zeros([len(valid_child_priors)], \\\n",
    "                                                                                          dtype=np.float32)+192)\n",
    "        child_priors[action_idxs] = valid_child_priors\n",
    "        return child_priors\n",
    "    \n",
    "    def expand(self, child_priors):\n",
    "        self.is_expanded = True\n",
    "        action_idxs = self.game.actions()\n",
    "        c_p = child_priors\n",
    "        if action_idxs == []:\n",
    "            self.is_expanded = False\n",
    "        self.action_idxes = action_idxs\n",
    "        c_p[[i for i in range(len(child_priors)) if i not in action_idxs]] = 0.000000000 # mask all illegal actions\n",
    "        if self.parent.parent == None: # add dirichlet noise to child_priors in root node\n",
    "            c_p = self.add_dirichlet_noise(action_idxs,c_p)\n",
    "        self.child_priors = c_p\n",
    "    \n",
    "    def decode_n_move_pieces(self,board,move):\n",
    "        board.drop_piece(move)\n",
    "        return board\n",
    "            \n",
    "    def maybe_add_child(self, move):\n",
    "        if move not in self.children:\n",
    "            copy_board = copy.deepcopy(self.game) # make copy of board\n",
    "            copy_board = self.decode_n_move_pieces(copy_board,move)\n",
    "            self.children[move] = UCTNode(\n",
    "              copy_board, move, parent=self)\n",
    "        return self.children[move]\n",
    "    \n",
    "    def backup(self, value_estimate: float):\n",
    "        current = self\n",
    "        while current.parent is not None:\n",
    "            current.number_visits += 1\n",
    "            if current.game.player == 1: # same as current.parent.game.player = 0\n",
    "                current.total_value += (1*value_estimate) # value estimate +1 = O wins\n",
    "            elif current.game.player == 0: # same as current.parent.game.player = 1\n",
    "                current.total_value += (-1*value_estimate)\n",
    "            current = current.parent"
   ]
  },
  {
   "cell_type": "code",
   "execution_count": 8,
   "id": "32db2b1c",
   "metadata": {},
   "outputs": [],
   "source": [
    "class DummyNode(object):\n",
    "    def __init__(self):\n",
    "        self.parent = None\n",
    "        self.child_total_value = collections.defaultdict(float)\n",
    "        self.child_number_visits = collections.defaultdict(float)"
   ]
  },
  {
   "cell_type": "code",
   "execution_count": null,
   "id": "bb9647db",
   "metadata": {},
   "outputs": [],
   "source": []
  }
 ],
 "metadata": {
  "kernelspec": {
   "display_name": "Python 3",
   "language": "python",
   "name": "python3"
  },
  "language_info": {
   "codemirror_mode": {
    "name": "ipython",
    "version": 3
   },
   "file_extension": ".py",
   "mimetype": "text/x-python",
   "name": "python",
   "nbconvert_exporter": "python",
   "pygments_lexer": "ipython3",
   "version": "3.7.7"
  }
 },
 "nbformat": 4,
 "nbformat_minor": 5
}
