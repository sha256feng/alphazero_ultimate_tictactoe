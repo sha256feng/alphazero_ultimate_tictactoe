{
 "cells": [
  {
   "cell_type": "code",
   "execution_count": 1,
   "id": "b4234e15",
   "metadata": {},
   "outputs": [],
   "source": [
    "import sys\n",
    "sys.path.append('../src')"
   ]
  },
  {
   "cell_type": "code",
   "execution_count": 2,
   "id": "aea2f85f",
   "metadata": {},
   "outputs": [],
   "source": [
    "import pickle\n",
    "import os\n",
    "import collections\n",
    "import numpy as np\n",
    "import math\n",
    "import encoder_decoder_uttt as ed\n",
    "from utictactoe_board import board as c_board\n",
    "import copy\n",
    "import torch\n",
    "import torch.multiprocessing as mp\n",
    "from alpha_net_uttt import ConnectNet\n",
    "import datetime\n",
    "import logging\n",
    "from tqdm import tqdm"
   ]
  },
  {
   "cell_type": "code",
   "execution_count": 3,
   "id": "c063f17b",
   "metadata": {},
   "outputs": [],
   "source": [
    "net = ConnectNet()"
   ]
  },
  {
   "cell_type": "code",
   "execution_count": 4,
   "id": "faee77b4",
   "metadata": {},
   "outputs": [],
   "source": [
    "cuda = torch.cuda.is_available()"
   ]
  },
  {
   "cell_type": "code",
   "execution_count": 5,
   "id": "68fe70c4",
   "metadata": {},
   "outputs": [
    {
     "data": {
      "text/plain": [
       "ConnectNet(\n",
       "  (conv): ConvBlock(\n",
       "    (conv1): Conv2d(3, 128, kernel_size=(3, 3), stride=(1, 1), padding=(1, 1))\n",
       "    (bn1): BatchNorm2d(128, eps=1e-05, momentum=0.1, affine=True, track_running_stats=True)\n",
       "  )\n",
       "  (res_0): ResBlock(\n",
       "    (conv1): Conv2d(128, 128, kernel_size=(3, 3), stride=(1, 1), padding=(1, 1), bias=False)\n",
       "    (bn1): BatchNorm2d(128, eps=1e-05, momentum=0.1, affine=True, track_running_stats=True)\n",
       "    (conv2): Conv2d(128, 128, kernel_size=(3, 3), stride=(1, 1), padding=(1, 1), bias=False)\n",
       "    (bn2): BatchNorm2d(128, eps=1e-05, momentum=0.1, affine=True, track_running_stats=True)\n",
       "  )\n",
       "  (res_1): ResBlock(\n",
       "    (conv1): Conv2d(128, 128, kernel_size=(3, 3), stride=(1, 1), padding=(1, 1), bias=False)\n",
       "    (bn1): BatchNorm2d(128, eps=1e-05, momentum=0.1, affine=True, track_running_stats=True)\n",
       "    (conv2): Conv2d(128, 128, kernel_size=(3, 3), stride=(1, 1), padding=(1, 1), bias=False)\n",
       "    (bn2): BatchNorm2d(128, eps=1e-05, momentum=0.1, affine=True, track_running_stats=True)\n",
       "  )\n",
       "  (res_2): ResBlock(\n",
       "    (conv1): Conv2d(128, 128, kernel_size=(3, 3), stride=(1, 1), padding=(1, 1), bias=False)\n",
       "    (bn1): BatchNorm2d(128, eps=1e-05, momentum=0.1, affine=True, track_running_stats=True)\n",
       "    (conv2): Conv2d(128, 128, kernel_size=(3, 3), stride=(1, 1), padding=(1, 1), bias=False)\n",
       "    (bn2): BatchNorm2d(128, eps=1e-05, momentum=0.1, affine=True, track_running_stats=True)\n",
       "  )\n",
       "  (res_3): ResBlock(\n",
       "    (conv1): Conv2d(128, 128, kernel_size=(3, 3), stride=(1, 1), padding=(1, 1), bias=False)\n",
       "    (bn1): BatchNorm2d(128, eps=1e-05, momentum=0.1, affine=True, track_running_stats=True)\n",
       "    (conv2): Conv2d(128, 128, kernel_size=(3, 3), stride=(1, 1), padding=(1, 1), bias=False)\n",
       "    (bn2): BatchNorm2d(128, eps=1e-05, momentum=0.1, affine=True, track_running_stats=True)\n",
       "  )\n",
       "  (res_4): ResBlock(\n",
       "    (conv1): Conv2d(128, 128, kernel_size=(3, 3), stride=(1, 1), padding=(1, 1), bias=False)\n",
       "    (bn1): BatchNorm2d(128, eps=1e-05, momentum=0.1, affine=True, track_running_stats=True)\n",
       "    (conv2): Conv2d(128, 128, kernel_size=(3, 3), stride=(1, 1), padding=(1, 1), bias=False)\n",
       "    (bn2): BatchNorm2d(128, eps=1e-05, momentum=0.1, affine=True, track_running_stats=True)\n",
       "  )\n",
       "  (res_5): ResBlock(\n",
       "    (conv1): Conv2d(128, 128, kernel_size=(3, 3), stride=(1, 1), padding=(1, 1), bias=False)\n",
       "    (bn1): BatchNorm2d(128, eps=1e-05, momentum=0.1, affine=True, track_running_stats=True)\n",
       "    (conv2): Conv2d(128, 128, kernel_size=(3, 3), stride=(1, 1), padding=(1, 1), bias=False)\n",
       "    (bn2): BatchNorm2d(128, eps=1e-05, momentum=0.1, affine=True, track_running_stats=True)\n",
       "  )\n",
       "  (res_6): ResBlock(\n",
       "    (conv1): Conv2d(128, 128, kernel_size=(3, 3), stride=(1, 1), padding=(1, 1), bias=False)\n",
       "    (bn1): BatchNorm2d(128, eps=1e-05, momentum=0.1, affine=True, track_running_stats=True)\n",
       "    (conv2): Conv2d(128, 128, kernel_size=(3, 3), stride=(1, 1), padding=(1, 1), bias=False)\n",
       "    (bn2): BatchNorm2d(128, eps=1e-05, momentum=0.1, affine=True, track_running_stats=True)\n",
       "  )\n",
       "  (res_7): ResBlock(\n",
       "    (conv1): Conv2d(128, 128, kernel_size=(3, 3), stride=(1, 1), padding=(1, 1), bias=False)\n",
       "    (bn1): BatchNorm2d(128, eps=1e-05, momentum=0.1, affine=True, track_running_stats=True)\n",
       "    (conv2): Conv2d(128, 128, kernel_size=(3, 3), stride=(1, 1), padding=(1, 1), bias=False)\n",
       "    (bn2): BatchNorm2d(128, eps=1e-05, momentum=0.1, affine=True, track_running_stats=True)\n",
       "  )\n",
       "  (res_8): ResBlock(\n",
       "    (conv1): Conv2d(128, 128, kernel_size=(3, 3), stride=(1, 1), padding=(1, 1), bias=False)\n",
       "    (bn1): BatchNorm2d(128, eps=1e-05, momentum=0.1, affine=True, track_running_stats=True)\n",
       "    (conv2): Conv2d(128, 128, kernel_size=(3, 3), stride=(1, 1), padding=(1, 1), bias=False)\n",
       "    (bn2): BatchNorm2d(128, eps=1e-05, momentum=0.1, affine=True, track_running_stats=True)\n",
       "  )\n",
       "  (res_9): ResBlock(\n",
       "    (conv1): Conv2d(128, 128, kernel_size=(3, 3), stride=(1, 1), padding=(1, 1), bias=False)\n",
       "    (bn1): BatchNorm2d(128, eps=1e-05, momentum=0.1, affine=True, track_running_stats=True)\n",
       "    (conv2): Conv2d(128, 128, kernel_size=(3, 3), stride=(1, 1), padding=(1, 1), bias=False)\n",
       "    (bn2): BatchNorm2d(128, eps=1e-05, momentum=0.1, affine=True, track_running_stats=True)\n",
       "  )\n",
       "  (res_10): ResBlock(\n",
       "    (conv1): Conv2d(128, 128, kernel_size=(3, 3), stride=(1, 1), padding=(1, 1), bias=False)\n",
       "    (bn1): BatchNorm2d(128, eps=1e-05, momentum=0.1, affine=True, track_running_stats=True)\n",
       "    (conv2): Conv2d(128, 128, kernel_size=(3, 3), stride=(1, 1), padding=(1, 1), bias=False)\n",
       "    (bn2): BatchNorm2d(128, eps=1e-05, momentum=0.1, affine=True, track_running_stats=True)\n",
       "  )\n",
       "  (res_11): ResBlock(\n",
       "    (conv1): Conv2d(128, 128, kernel_size=(3, 3), stride=(1, 1), padding=(1, 1), bias=False)\n",
       "    (bn1): BatchNorm2d(128, eps=1e-05, momentum=0.1, affine=True, track_running_stats=True)\n",
       "    (conv2): Conv2d(128, 128, kernel_size=(3, 3), stride=(1, 1), padding=(1, 1), bias=False)\n",
       "    (bn2): BatchNorm2d(128, eps=1e-05, momentum=0.1, affine=True, track_running_stats=True)\n",
       "  )\n",
       "  (res_12): ResBlock(\n",
       "    (conv1): Conv2d(128, 128, kernel_size=(3, 3), stride=(1, 1), padding=(1, 1), bias=False)\n",
       "    (bn1): BatchNorm2d(128, eps=1e-05, momentum=0.1, affine=True, track_running_stats=True)\n",
       "    (conv2): Conv2d(128, 128, kernel_size=(3, 3), stride=(1, 1), padding=(1, 1), bias=False)\n",
       "    (bn2): BatchNorm2d(128, eps=1e-05, momentum=0.1, affine=True, track_running_stats=True)\n",
       "  )\n",
       "  (res_13): ResBlock(\n",
       "    (conv1): Conv2d(128, 128, kernel_size=(3, 3), stride=(1, 1), padding=(1, 1), bias=False)\n",
       "    (bn1): BatchNorm2d(128, eps=1e-05, momentum=0.1, affine=True, track_running_stats=True)\n",
       "    (conv2): Conv2d(128, 128, kernel_size=(3, 3), stride=(1, 1), padding=(1, 1), bias=False)\n",
       "    (bn2): BatchNorm2d(128, eps=1e-05, momentum=0.1, affine=True, track_running_stats=True)\n",
       "  )\n",
       "  (res_14): ResBlock(\n",
       "    (conv1): Conv2d(128, 128, kernel_size=(3, 3), stride=(1, 1), padding=(1, 1), bias=False)\n",
       "    (bn1): BatchNorm2d(128, eps=1e-05, momentum=0.1, affine=True, track_running_stats=True)\n",
       "    (conv2): Conv2d(128, 128, kernel_size=(3, 3), stride=(1, 1), padding=(1, 1), bias=False)\n",
       "    (bn2): BatchNorm2d(128, eps=1e-05, momentum=0.1, affine=True, track_running_stats=True)\n",
       "  )\n",
       "  (res_15): ResBlock(\n",
       "    (conv1): Conv2d(128, 128, kernel_size=(3, 3), stride=(1, 1), padding=(1, 1), bias=False)\n",
       "    (bn1): BatchNorm2d(128, eps=1e-05, momentum=0.1, affine=True, track_running_stats=True)\n",
       "    (conv2): Conv2d(128, 128, kernel_size=(3, 3), stride=(1, 1), padding=(1, 1), bias=False)\n",
       "    (bn2): BatchNorm2d(128, eps=1e-05, momentum=0.1, affine=True, track_running_stats=True)\n",
       "  )\n",
       "  (res_16): ResBlock(\n",
       "    (conv1): Conv2d(128, 128, kernel_size=(3, 3), stride=(1, 1), padding=(1, 1), bias=False)\n",
       "    (bn1): BatchNorm2d(128, eps=1e-05, momentum=0.1, affine=True, track_running_stats=True)\n",
       "    (conv2): Conv2d(128, 128, kernel_size=(3, 3), stride=(1, 1), padding=(1, 1), bias=False)\n",
       "    (bn2): BatchNorm2d(128, eps=1e-05, momentum=0.1, affine=True, track_running_stats=True)\n",
       "  )\n",
       "  (res_17): ResBlock(\n",
       "    (conv1): Conv2d(128, 128, kernel_size=(3, 3), stride=(1, 1), padding=(1, 1), bias=False)\n",
       "    (bn1): BatchNorm2d(128, eps=1e-05, momentum=0.1, affine=True, track_running_stats=True)\n",
       "    (conv2): Conv2d(128, 128, kernel_size=(3, 3), stride=(1, 1), padding=(1, 1), bias=False)\n",
       "    (bn2): BatchNorm2d(128, eps=1e-05, momentum=0.1, affine=True, track_running_stats=True)\n",
       "  )\n",
       "  (res_18): ResBlock(\n",
       "    (conv1): Conv2d(128, 128, kernel_size=(3, 3), stride=(1, 1), padding=(1, 1), bias=False)\n",
       "    (bn1): BatchNorm2d(128, eps=1e-05, momentum=0.1, affine=True, track_running_stats=True)\n",
       "    (conv2): Conv2d(128, 128, kernel_size=(3, 3), stride=(1, 1), padding=(1, 1), bias=False)\n",
       "    (bn2): BatchNorm2d(128, eps=1e-05, momentum=0.1, affine=True, track_running_stats=True)\n",
       "  )\n",
       "  (outblock): OutBlock(\n",
       "    (conv): Conv2d(128, 3, kernel_size=(1, 1), stride=(1, 1))\n",
       "    (bn): BatchNorm2d(3, eps=1e-05, momentum=0.1, affine=True, track_running_stats=True)\n",
       "    (fc1): Linear(in_features=243, out_features=32, bias=True)\n",
       "    (fc2): Linear(in_features=32, out_features=1, bias=True)\n",
       "    (conv1): Conv2d(128, 32, kernel_size=(1, 1), stride=(1, 1))\n",
       "    (bn1): BatchNorm2d(32, eps=1e-05, momentum=0.1, affine=True, track_running_stats=True)\n",
       "    (logsoftmax): LogSoftmax()\n",
       "    (fc): Linear(in_features=2592, out_features=81, bias=True)\n",
       "  )\n",
       ")"
      ]
     },
     "execution_count": 5,
     "metadata": {},
     "output_type": "execute_result"
    }
   ],
   "source": [
    "net.cuda()"
   ]
  },
  {
   "cell_type": "code",
   "execution_count": 109,
   "id": "5ed791b2",
   "metadata": {},
   "outputs": [
    {
     "name": "stdout",
     "output_type": "stream",
     "text": [
      "[60, 61, 62, 69, 70, 71, 78, 79, 80]\n"
     ]
    }
   ],
   "source": [
    "with torch.no_grad():\n",
    "    leaf = root.select_leaf()\n",
    "    encoded_s = ed.encode_board(leaf.game); encoded_s = encoded_s.transpose(2,0,1)\n",
    "    encoded_s = torch.from_numpy(encoded_s).float().cuda()\n",
    "    child_priors, value_estimate = net(encoded_s)\n",
    "    child_priors = child_priors.detach().cpu().numpy().reshape(-1)\n",
    "    value_estimate = value_estimate.item()\n",
    "    if leaf.game.check_winner() == True or leaf.game.actions() == []: # if somebody won or draw\n",
    "        leaf.backup(value_estimate) \n",
    "#         continue\n",
    "    # expansion\n",
    "    leaf.expand(child_priors) # need to make sure valid moves\n",
    "    # backup\n",
    "    leaf.backup(value_estimate)"
   ]
  },
  {
   "cell_type": "code",
   "execution_count": 112,
   "id": "1cd8db6b",
   "metadata": {},
   "outputs": [
    {
     "data": {
      "text/plain": [
       "{69: <__main__.UCTNode at 0x7fe3651b4310>}"
      ]
     },
     "execution_count": 112,
     "metadata": {},
     "output_type": "execute_result"
    }
   ],
   "source": [
    "root.children"
   ]
  },
  {
   "cell_type": "code",
   "execution_count": 110,
   "id": "12e4f5a9",
   "metadata": {},
   "outputs": [
    {
     "data": {
      "text/plain": [
       "2.0"
      ]
     },
     "execution_count": 110,
     "metadata": {},
     "output_type": "execute_result"
    }
   ],
   "source": [
    "root.number_visits"
   ]
  },
  {
   "cell_type": "code",
   "execution_count": 111,
   "id": "1073c90f",
   "metadata": {},
   "outputs": [
    {
     "data": {
      "text/plain": [
       "array([0., 0., 0., 0., 0., 0., 0., 0., 0., 0., 0., 0., 0., 0., 0., 0., 0.,\n",
       "       0., 0., 0., 0., 0., 0., 0., 0., 0., 0., 0., 0., 0., 0., 0., 0., 0.,\n",
       "       0., 0., 0., 0., 0., 0., 0., 0., 0., 0., 0., 0., 0., 0., 0., 0., 0.,\n",
       "       0., 0., 0., 0., 0., 0., 0., 0., 0., 0., 0., 0., 0., 0., 0., 0., 0.,\n",
       "       0., 1., 0., 0., 0., 0., 0., 0., 0., 0., 0., 0., 0.], dtype=float32)"
      ]
     },
     "execution_count": 111,
     "metadata": {},
     "output_type": "execute_result"
    }
   ],
   "source": [
    "root.child_number_visits"
   ]
  },
  {
   "cell_type": "code",
   "execution_count": 6,
   "id": "0834304d",
   "metadata": {},
   "outputs": [],
   "source": [
    "with torch.no_grad():\n",
    "    current_board = c_board()\n",
    "    checkmate = False\n",
    "    board_state = copy.deepcopy(ed.encode_board(current_board))"
   ]
  },
  {
   "cell_type": "code",
   "execution_count": 81,
   "id": "ac9dcca5",
   "metadata": {},
   "outputs": [],
   "source": [
    "root = UCTNode(current_board, move=None, parent=DummyNode())"
   ]
  },
  {
   "cell_type": "code",
   "execution_count": 101,
   "id": "0d4d2dd6",
   "metadata": {},
   "outputs": [],
   "source": [
    "leaf = root.select_leaf()"
   ]
  },
  {
   "cell_type": "code",
   "execution_count": 102,
   "id": "d1310b43",
   "metadata": {},
   "outputs": [],
   "source": [
    "encoded_s = ed.encode_board(leaf.game)\n",
    "encoded_s = encoded_s.transpose(2,0,1)\n",
    "encoded_s = torch.from_numpy(encoded_s).float().cuda()"
   ]
  },
  {
   "cell_type": "code",
   "execution_count": 103,
   "id": "97bcb886",
   "metadata": {},
   "outputs": [],
   "source": [
    "child_priors, value_estimate = net(encoded_s)"
   ]
  },
  {
   "cell_type": "code",
   "execution_count": 104,
   "id": "862545c1",
   "metadata": {},
   "outputs": [
    {
     "data": {
      "text/plain": [
       "tensor([[0.0166, 0.0114, 0.0062, 0.0139, 0.0111, 0.0098, 0.0119, 0.0095, 0.0156,\n",
       "         0.0173, 0.0167, 0.0164, 0.0206, 0.0140, 0.0114, 0.0119, 0.0127, 0.0074,\n",
       "         0.0112, 0.0067, 0.0185, 0.0100, 0.0075, 0.0142, 0.0132, 0.0257, 0.0096,\n",
       "         0.0068, 0.0139, 0.0154, 0.0113, 0.0103, 0.0081, 0.0060, 0.0089, 0.0051,\n",
       "         0.0146, 0.0067, 0.0070, 0.0076, 0.0263, 0.0108, 0.0109, 0.0080, 0.0164,\n",
       "         0.0155, 0.0103, 0.0213, 0.0234, 0.0067, 0.0081, 0.0119, 0.0070, 0.0133,\n",
       "         0.0173, 0.0082, 0.0245, 0.0085, 0.0095, 0.0141, 0.0157, 0.0143, 0.0107,\n",
       "         0.0120, 0.0075, 0.0081, 0.0077, 0.0158, 0.0066, 0.0170, 0.0132, 0.0125,\n",
       "         0.0132, 0.0091, 0.0128, 0.0080, 0.0055, 0.0196, 0.0203, 0.0104, 0.0154]],\n",
       "       device='cuda:0', grad_fn=<ExpBackward>)"
      ]
     },
     "execution_count": 104,
     "metadata": {},
     "output_type": "execute_result"
    }
   ],
   "source": [
    "child_priors"
   ]
  },
  {
   "cell_type": "code",
   "execution_count": 86,
   "id": "8de12be1",
   "metadata": {},
   "outputs": [
    {
     "data": {
      "text/plain": [
       "tensor([[-0.2636]], device='cuda:0', grad_fn=<TanhBackward>)"
      ]
     },
     "execution_count": 86,
     "metadata": {},
     "output_type": "execute_result"
    }
   ],
   "source": [
    "value_estimate"
   ]
  },
  {
   "cell_type": "code",
   "execution_count": 87,
   "id": "073f16f8",
   "metadata": {},
   "outputs": [],
   "source": [
    "child_priors = child_priors.detach().cpu().numpy().reshape(-1)\n",
    "value_estimate = value_estimate.item()"
   ]
  },
  {
   "cell_type": "code",
   "execution_count": 88,
   "id": "ca1c365c",
   "metadata": {
    "scrolled": true
   },
   "outputs": [
    {
     "data": {
      "text/plain": [
       "array([0.01705102, 0.00777669, 0.0063078 , 0.01867882, 0.01054201,\n",
       "       0.00560169, 0.01020111, 0.01935214, 0.0099953 , 0.01636836,\n",
       "       0.01757073, 0.01436909, 0.02292205, 0.00502619, 0.02155052,\n",
       "       0.01036641, 0.01796573, 0.00998601, 0.01287861, 0.01351345,\n",
       "       0.01116304, 0.01148709, 0.00629348, 0.02543472, 0.01290886,\n",
       "       0.02450569, 0.01101202, 0.00904266, 0.00964045, 0.01190577,\n",
       "       0.0127175 , 0.00340463, 0.00856017, 0.00483537, 0.01959443,\n",
       "       0.00614132, 0.02352763, 0.01221078, 0.0100853 , 0.00952635,\n",
       "       0.01352199, 0.01342555, 0.01011256, 0.00559576, 0.01739274,\n",
       "       0.01694698, 0.01285821, 0.01454341, 0.01055109, 0.01468434,\n",
       "       0.00845387, 0.00930174, 0.01065725, 0.01349898, 0.01066831,\n",
       "       0.01830662, 0.01676542, 0.01358381, 0.00430858, 0.01072281,\n",
       "       0.01295201, 0.00920067, 0.00989054, 0.01520835, 0.01231836,\n",
       "       0.01146843, 0.00903359, 0.00904995, 0.00767214, 0.01912075,\n",
       "       0.00556602, 0.00835548, 0.00842852, 0.01634807, 0.01007105,\n",
       "       0.01041538, 0.0097131 , 0.01614196, 0.00984362, 0.01542065,\n",
       "       0.01586045], dtype=float32)"
      ]
     },
     "execution_count": 88,
     "metadata": {},
     "output_type": "execute_result"
    }
   ],
   "source": [
    "child_priors"
   ]
  },
  {
   "cell_type": "code",
   "execution_count": 89,
   "id": "b541569c",
   "metadata": {},
   "outputs": [
    {
     "data": {
      "text/plain": [
       "False"
      ]
     },
     "execution_count": 89,
     "metadata": {},
     "output_type": "execute_result"
    }
   ],
   "source": [
    "leaf.game.check_winner()"
   ]
  },
  {
   "cell_type": "code",
   "execution_count": 90,
   "id": "20cdd8a6",
   "metadata": {},
   "outputs": [
    {
     "data": {
      "text/plain": [
       "[(6, 6), (6, 7), (6, 8), (7, 6), (7, 7), (7, 8), (8, 6), (8, 7), (8, 8)]"
      ]
     },
     "execution_count": 90,
     "metadata": {},
     "output_type": "execute_result"
    }
   ],
   "source": [
    "leaf.game.actions()"
   ]
  },
  {
   "cell_type": "code",
   "execution_count": 91,
   "id": "9bf24a59",
   "metadata": {},
   "outputs": [],
   "source": [
    "valid_moves = leaf.game.actions()"
   ]
  },
  {
   "cell_type": "code",
   "execution_count": 94,
   "id": "3ed2863a",
   "metadata": {},
   "outputs": [
    {
     "data": {
      "text/plain": [
       "[60, 61, 62, 69, 70, 71, 78, 79, 80]"
      ]
     },
     "execution_count": 94,
     "metadata": {},
     "output_type": "execute_result"
    }
   ],
   "source": [
    "leaf.action_idxes"
   ]
  },
  {
   "cell_type": "code",
   "execution_count": 93,
   "id": "0fb5a7ea",
   "metadata": {},
   "outputs": [
    {
     "name": "stdout",
     "output_type": "stream",
     "text": [
      "[60, 61, 62, 69, 70, 71, 78, 79, 80]\n"
     ]
    }
   ],
   "source": [
    "leaf.expand(child_priors)"
   ]
  },
  {
   "cell_type": "code",
   "execution_count": 96,
   "id": "d126ca93",
   "metadata": {},
   "outputs": [],
   "source": [
    "leaf.backup(value_estimate)"
   ]
  },
  {
   "cell_type": "code",
   "execution_count": 97,
   "id": "fe37bea3",
   "metadata": {},
   "outputs": [
    {
     "data": {
      "text/plain": [
       "{}"
      ]
     },
     "execution_count": 97,
     "metadata": {},
     "output_type": "execute_result"
    }
   ],
   "source": [
    "leaf.children"
   ]
  },
  {
   "cell_type": "code",
   "execution_count": 98,
   "id": "f7bffc88",
   "metadata": {},
   "outputs": [
    {
     "data": {
      "text/plain": [
       "array([0.        , 0.        , 0.        , 0.        , 0.        ,\n",
       "       0.        , 0.        , 0.        , 0.        , 0.        ,\n",
       "       0.        , 0.        , 0.        , 0.        , 0.        ,\n",
       "       0.        , 0.        , 0.        , 0.        , 0.        ,\n",
       "       0.        , 0.        , 0.        , 0.        , 0.        ,\n",
       "       0.        , 0.        , 0.        , 0.        , 0.        ,\n",
       "       0.        , 0.        , 0.        , 0.        , 0.        ,\n",
       "       0.        , 0.        , 0.        , 0.        , 0.        ,\n",
       "       0.        , 0.        , 0.        , 0.        , 0.        ,\n",
       "       0.        , 0.        , 0.        , 0.        , 0.        ,\n",
       "       0.        , 0.        , 0.        , 0.        , 0.        ,\n",
       "       0.        , 0.        , 0.        , 0.        , 0.        ,\n",
       "       0.03815109, 0.03498515, 0.03311222, 0.        , 0.        ,\n",
       "       0.        , 0.        , 0.        , 0.        , 0.04315301,\n",
       "       0.03034694, 0.03570307, 0.        , 0.        , 0.        ,\n",
       "       0.        , 0.        , 0.        , 0.03574019, 0.03610582,\n",
       "       0.04236014], dtype=float32)"
      ]
     },
     "execution_count": 98,
     "metadata": {},
     "output_type": "execute_result"
    }
   ],
   "source": [
    "leaf.child_priors"
   ]
  },
  {
   "cell_type": "code",
   "execution_count": 99,
   "id": "6028a943",
   "metadata": {},
   "outputs": [
    {
     "data": {
      "text/plain": [
       "array([0., 0., 0., 0., 0., 0., 0., 0., 0., 0., 0., 0., 0., 0., 0., 0., 0.,\n",
       "       0., 0., 0., 0., 0., 0., 0., 0., 0., 0., 0., 0., 0., 0., 0., 0., 0.,\n",
       "       0., 0., 0., 0., 0., 0., 0., 0., 0., 0., 0., 0., 0., 0., 0., 0., 0.,\n",
       "       0., 0., 0., 0., 0., 0., 0., 0., 0., 0., 0., 0., 0., 0., 0., 0., 0.,\n",
       "       0., 0., 0., 0., 0., 0., 0., 0., 0., 0., 0., 0., 0.], dtype=float32)"
      ]
     },
     "execution_count": 99,
     "metadata": {},
     "output_type": "execute_result"
    }
   ],
   "source": [
    "leaf.child_total_value"
   ]
  },
  {
   "cell_type": "code",
   "execution_count": 100,
   "id": "1c83e7b9",
   "metadata": {},
   "outputs": [
    {
     "data": {
      "text/plain": [
       "array([0., 0., 0., 0., 0., 0., 0., 0., 0., 0., 0., 0., 0., 0., 0., 0., 0.,\n",
       "       0., 0., 0., 0., 0., 0., 0., 0., 0., 0., 0., 0., 0., 0., 0., 0., 0.,\n",
       "       0., 0., 0., 0., 0., 0., 0., 0., 0., 0., 0., 0., 0., 0., 0., 0., 0.,\n",
       "       0., 0., 0., 0., 0., 0., 0., 0., 0., 0., 0., 0., 0., 0., 0., 0., 0.,\n",
       "       0., 0., 0., 0., 0., 0., 0., 0., 0., 0., 0., 0., 0.], dtype=float32)"
      ]
     },
     "execution_count": 100,
     "metadata": {},
     "output_type": "execute_result"
    }
   ],
   "source": [
    "leaf.child_number_visits"
   ]
  },
  {
   "cell_type": "code",
   "execution_count": 95,
   "id": "c22aa3a4",
   "metadata": {},
   "outputs": [
    {
     "data": {
      "text/plain": [
       "array([0.        , 0.        , 0.        , 0.        , 0.        ,\n",
       "       0.        , 0.        , 0.        , 0.        , 0.        ,\n",
       "       0.        , 0.        , 0.        , 0.        , 0.        ,\n",
       "       0.        , 0.        , 0.        , 0.        , 0.        ,\n",
       "       0.        , 0.        , 0.        , 0.        , 0.        ,\n",
       "       0.        , 0.        , 0.        , 0.        , 0.        ,\n",
       "       0.        , 0.        , 0.        , 0.        , 0.        ,\n",
       "       0.        , 0.        , 0.        , 0.        , 0.        ,\n",
       "       0.        , 0.        , 0.        , 0.        , 0.        ,\n",
       "       0.        , 0.        , 0.        , 0.        , 0.        ,\n",
       "       0.        , 0.        , 0.        , 0.        , 0.        ,\n",
       "       0.        , 0.        , 0.        , 0.        , 0.        ,\n",
       "       0.03815109, 0.03498515, 0.03311222, 0.        , 0.        ,\n",
       "       0.        , 0.        , 0.        , 0.        , 0.04315301,\n",
       "       0.03034694, 0.03570307, 0.        , 0.        , 0.        ,\n",
       "       0.        , 0.        , 0.        , 0.03574019, 0.03610582,\n",
       "       0.04236014], dtype=float32)"
      ]
     },
     "execution_count": 95,
     "metadata": {},
     "output_type": "execute_result"
    }
   ],
   "source": [
    "leaf.child_priors"
   ]
  },
  {
   "cell_type": "code",
   "execution_count": 21,
   "id": "9a5bac52",
   "metadata": {},
   "outputs": [],
   "source": [
    "def return_winner(winner):\n",
    "    if winner == \"O\" or winner == \"X\":\n",
    "        print(1)\n",
    "        return True\n",
    "    elif winner == \"tie\":\n",
    "        print(2)\n",
    "        return winner\n",
    "    else:\n",
    "        return False"
   ]
  },
  {
   "cell_type": "code",
   "execution_count": 22,
   "id": "ca32315e",
   "metadata": {},
   "outputs": [],
   "source": [
    "winner = None"
   ]
  },
  {
   "cell_type": "code",
   "execution_count": 20,
   "id": "68858de7",
   "metadata": {},
   "outputs": [
    {
     "data": {
      "text/plain": [
       "'X'"
      ]
     },
     "execution_count": 20,
     "metadata": {},
     "output_type": "execute_result"
    }
   ],
   "source": [
    "winner == \"O\" or \"X\""
   ]
  },
  {
   "cell_type": "code",
   "execution_count": 23,
   "id": "6e02e988",
   "metadata": {},
   "outputs": [
    {
     "data": {
      "text/plain": [
       "False"
      ]
     },
     "execution_count": 23,
     "metadata": {},
     "output_type": "execute_result"
    }
   ],
   "source": [
    "return_winner(winner=None)"
   ]
  },
  {
   "cell_type": "code",
   "execution_count": 23,
   "id": "222da86c",
   "metadata": {},
   "outputs": [
    {
     "data": {
      "text/plain": [
       "array([[' ', ' ', ' '],\n",
       "       [' ', ' ', ' '],\n",
       "       [' ', ' ', ' ']], dtype='<U32')"
      ]
     },
     "execution_count": 23,
     "metadata": {},
     "output_type": "execute_result"
    }
   ],
   "source": [
    "leaf.game.mega_board"
   ]
  },
  {
   "cell_type": "code",
   "execution_count": 24,
   "id": "b094465c",
   "metadata": {},
   "outputs": [
    {
     "data": {
      "text/plain": [
       "array([[' ', ' ', ' ', ' ', ' ', ' ', ' ', ' ', ' '],\n",
       "       [' ', ' ', ' ', ' ', ' ', ' ', ' ', ' ', ' '],\n",
       "       [' ', ' ', ' ', ' ', ' ', ' ', ' ', ' ', ' '],\n",
       "       [' ', ' ', ' ', ' ', ' ', ' ', ' ', ' ', ' '],\n",
       "       [' ', ' ', ' ', ' ', ' ', ' ', ' ', ' ', ' '],\n",
       "       [' ', ' ', ' ', ' ', ' ', ' ', ' ', ' ', ' '],\n",
       "       [' ', ' ', ' ', ' ', ' ', ' ', ' ', ' ', ' '],\n",
       "       [' ', ' ', ' ', ' ', ' ', ' ', ' ', ' ', ' '],\n",
       "       [' ', ' ', ' ', ' ', ' ', ' ', ' ', ' ', ' ']], dtype='<U32')"
      ]
     },
     "execution_count": 24,
     "metadata": {},
     "output_type": "execute_result"
    }
   ],
   "source": [
    "leaf.game.current_board"
   ]
  },
  {
   "cell_type": "code",
   "execution_count": 23,
   "id": "c388db15",
   "metadata": {},
   "outputs": [],
   "source": [
    "y = check_ninebox(leaf.game.mega_board)"
   ]
  },
  {
   "cell_type": "code",
   "execution_count": 24,
   "id": "63f92235",
   "metadata": {},
   "outputs": [],
   "source": [
    "y"
   ]
  },
  {
   "cell_type": "code",
   "execution_count": 21,
   "id": "8c954a47",
   "metadata": {},
   "outputs": [],
   "source": [
    "def check_ninebox(mat):\n",
    "    \"\"\"\n",
    "    This function can be use to check the small nine-box \\\n",
    "            or the large nine-box.\n",
    "    input: mat: a matrix of 3x3\n",
    "    \"\"\"\n",
    "    # look for rows, columns, diagnols\n",
    "    for i in range(3):\n",
    "        if mat[i,0] == mat[i,1] == mat[i,2] != ' ':\n",
    "            return mat[i,0]\n",
    "        if mat[0,i] == mat[1,i] == mat[2,i] != ' ':\n",
    "            return mat[0,i]\n",
    "    if mat[0,0] == mat[1,1] == mat[2,2] != ' ':\n",
    "        return mat[0,0]\n",
    "    if mat[0,2] == mat[1,1] == mat[2,0] != ' ':\n",
    "        return mat[1,1]\n",
    "\n",
    "    # look for tie\n",
    "    count = 0\n",
    "    for i in range(3):\n",
    "        for j in range(3):\n",
    "            if mat[i,j] != ' ':\n",
    "                count += 1\n",
    "    if count == 9:\n",
    "        return 'tie'\n",
    "    else:\n",
    "        return None"
   ]
  },
  {
   "cell_type": "code",
   "execution_count": 80,
   "id": "c6f52703",
   "metadata": {},
   "outputs": [],
   "source": [
    "class UCTNode():\n",
    "    def __init__(self, game, move, parent=None):\n",
    "        self.game = game # state s\n",
    "        self.move = move # action index\n",
    "        self.is_expanded = False\n",
    "        self.parent = parent  \n",
    "        self.children = {}\n",
    "        self.child_priors = np.zeros([81], dtype=np.float32)\n",
    "        self.child_total_value = np.zeros([81], dtype=np.float32)\n",
    "        self.child_number_visits = np.zeros([81], dtype=np.float32)\n",
    "        self.action_idxes = []\n",
    "        \n",
    "    @property\n",
    "    def number_visits(self):\n",
    "        return self.parent.child_number_visits[self.move]\n",
    "\n",
    "    @number_visits.setter\n",
    "    def number_visits(self, value):\n",
    "        self.parent.child_number_visits[self.move] = value\n",
    "    \n",
    "    @property\n",
    "    def total_value(self):\n",
    "        return self.parent.child_total_value[self.move]\n",
    "    \n",
    "    @total_value.setter\n",
    "    def total_value(self, value):\n",
    "        self.parent.child_total_value[self.move] = value\n",
    "    \n",
    "    def child_Q(self):\n",
    "        return self.child_total_value / (1 + self.child_number_visits)\n",
    "    \n",
    "    def child_U(self):\n",
    "        return math.sqrt(self.number_visits) * (\n",
    "            abs(self.child_priors) / (1 + self.child_number_visits))\n",
    "    \n",
    "    def best_child(self):\n",
    "        if self.action_idxes != []:\n",
    "            bestmove = self.child_Q() + self.child_U()\n",
    "            bestmove = self.action_idxes[np.argmax(bestmove[self.action_idxes])]\n",
    "        else:\n",
    "            bestmove = np.argmax(self.child_Q() + self.child_U())\n",
    "        return bestmove\n",
    "    \n",
    "    def select_leaf(self):\n",
    "        current = self\n",
    "        while current.is_expanded:\n",
    "            best_move = current.best_child()\n",
    "            current = current.maybe_add_child(best_move)\n",
    "        return current\n",
    "    \n",
    "    def add_dirichlet_noise(self,action_idxs,child_priors):\n",
    "        valid_child_priors = child_priors[action_idxs] # select only legal moves entries in child_priors array\n",
    "        valid_child_priors = 0.75*valid_child_priors + 0.25*np.random.dirichlet(np.zeros([len(valid_child_priors)], \\\n",
    "                                                                                          dtype=np.float32)+192)\n",
    "        child_priors[action_idxs] = valid_child_priors\n",
    "        return child_priors\n",
    "    \n",
    "    def expand(self, child_priors):\n",
    "        self.is_expanded = True\n",
    "        action_idxs = self.game.actions()\n",
    "        c_p = child_priors\n",
    "        if action_idxs == []:\n",
    "            self.is_expanded = False\n",
    "        else:\n",
    "            for i,j in action_idxs:\n",
    "                self.action_idxes.append(i*9+j)\n",
    "        print(self.action_idxes)\n",
    "        #self.action_idxes = action_idxs\n",
    "        #for i in range(9):\n",
    "        #    for j in range(9):\n",
    "        #        if (i,j) not in action_idxs:\n",
    "        #            c_p[i,j] = 0.00000\n",
    "        c_p[[i for i in range(len(child_priors)) if i not in self.action_idxes]] = 0.000000000 # mask all illegal actions\n",
    "        if self.parent.parent == None: # add dirichlet noise to child_priors in root node\n",
    "            c_p = self.add_dirichlet_noise(self.action_idxes,c_p)\n",
    "        self.child_priors = c_p\n",
    "    \n",
    "    def decode_n_move_pieces(self,board,move):\n",
    "        move = (move//9, move&9)\n",
    "        board.drop_piece(move)\n",
    "        return board\n",
    "            \n",
    "    def maybe_add_child(self, move):\n",
    "        if move not in self.children:\n",
    "            copy_board = copy.deepcopy(self.game) # make copy of board\n",
    "            copy_board = self.decode_n_move_pieces(copy_board,move)\n",
    "            self.children[move] = UCTNode(\n",
    "              copy_board, move, parent=self)\n",
    "        return self.children[move]\n",
    "    \n",
    "    def backup(self, value_estimate: float):\n",
    "        current = self\n",
    "        while current.parent is not None:\n",
    "            current.number_visits += 1\n",
    "            if current.game.player == 1: # same as current.parent.game.player = 0\n",
    "                current.total_value += (1*value_estimate) # value estimate +1 = O wins\n",
    "            elif current.game.player == 0: # same as current.parent.game.player = 1\n",
    "                current.total_value += (-1*value_estimate)\n",
    "            current = current.parent"
   ]
  },
  {
   "cell_type": "code",
   "execution_count": 8,
   "id": "f5ef0d69",
   "metadata": {},
   "outputs": [],
   "source": [
    "class DummyNode(object):\n",
    "    def __init__(self):\n",
    "        self.parent = None\n",
    "        self.child_total_value = collections.defaultdict(float)\n",
    "        self.child_number_visits = collections.defaultdict(float)"
   ]
  },
  {
   "cell_type": "code",
   "execution_count": null,
   "id": "507c89a1",
   "metadata": {},
   "outputs": [],
   "source": []
  }
 ],
 "metadata": {
  "kernelspec": {
   "display_name": "Python 3",
   "language": "python",
   "name": "python3"
  },
  "language_info": {
   "codemirror_mode": {
    "name": "ipython",
    "version": 3
   },
   "file_extension": ".py",
   "mimetype": "text/x-python",
   "name": "python",
   "nbconvert_exporter": "python",
   "pygments_lexer": "ipython3",
   "version": "3.7.7"
  }
 },
 "nbformat": 4,
 "nbformat_minor": 5
}
