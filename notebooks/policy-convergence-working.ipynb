{
 "cells": [
  {
   "cell_type": "code",
   "execution_count": 1,
   "id": "91ce2d26",
   "metadata": {},
   "outputs": [],
   "source": [
    "import sys\n",
    "sys.path.append('../src')\n",
    "\n",
    "import encoder_decoder_uttt as ed\n",
    "from alpha_net_uttt import ConnectNet\n",
    "from utictactoe_board import board as c_board\n",
    "import torch\n",
    "import numpy as np\n",
    "import pickle\n",
    "import matplotlib.pyplot as plt"
   ]
  },
  {
   "cell_type": "code",
   "execution_count": 2,
   "id": "bcce8fce",
   "metadata": {},
   "outputs": [],
   "source": [
    "# file = \"../src/datasets/dataset_iter0_cpu1_0_2021-05-07\"\n",
    "file = \"../src/datasets/iter_0/dataset_iter0_cpu0_1_2021-05-10\"\n",
    "with open(file, 'rb') as f:\n",
    "    data = pickle.load(f)"
   ]
  },
  {
   "cell_type": "code",
   "execution_count": 3,
   "id": "18d92580",
   "metadata": {},
   "outputs": [
    {
     "data": {
      "text/plain": [
       "array([[' ', 'X', 'O', 'X', ' ', 'O', 'O', 'X', 'X'],\n",
       "       ['X', ' ', 'X', ' ', ' ', 'O', 'O', ' ', 'X'],\n",
       "       [' ', 'O', 'X', ' ', 'O', ' ', 'X', 'O', 'X'],\n",
       "       [' ', 'X', 'O', 'O', ' ', 'X', 'X', ' ', 'O'],\n",
       "       ['O', ' ', 'X', ' ', ' ', ' ', ' ', ' ', ' '],\n",
       "       [' ', 'O', ' ', ' ', ' ', ' ', 'O', ' ', ' '],\n",
       "       ['O', ' ', ' ', ' ', ' ', 'X', 'O', 'O', 'O'],\n",
       "       ['X', ' ', ' ', 'X', 'O', ' ', ' ', 'X', ' '],\n",
       "       [' ', ' ', ' ', ' ', 'X', 'X', ' ', ' ', 'O']], dtype='<U32')"
      ]
     },
     "execution_count": 3,
     "metadata": {},
     "output_type": "execute_result"
    }
   ],
   "source": [
    "i = 40\n",
    "s,p,value = data[i]\n",
    "cboard = ed.decode_board(s)\n",
    "cboard.current_board"
   ]
  },
  {
   "cell_type": "code",
   "execution_count": 4,
   "id": "4cc6591e",
   "metadata": {},
   "outputs": [
    {
     "data": {
      "text/plain": [
       "(4, 2)"
      ]
     },
     "execution_count": 4,
     "metadata": {},
     "output_type": "execute_result"
    }
   ],
   "source": [
    "cboard.old_move"
   ]
  },
  {
   "cell_type": "code",
   "execution_count": 13,
   "id": "a597e18b",
   "metadata": {},
   "outputs": [
    {
     "data": {
      "image/png": "[encoded data removed]",
      "text/plain": [
       "<Figure size 1152x576 with 8 Axes>"
      ]
     },
     "metadata": {
      "needs_background": "light"
     },
     "output_type": "display_data"
    }
   ],
   "source": [
    "%matplotlib inline\n",
    "\n",
    "fig = plt.figure(figsize=(16,8))\n",
    "\n",
    "for j in range(8):\n",
    "    net = ConnectNet()\n",
    "    cuda = torch.cuda.is_available()\n",
    "    if cuda:\n",
    "        net.cuda()\n",
    "    net.eval()\n",
    "    net_filename = f\"../src/model_data/uttt_current_net__iter{j}.pth.tar\"\n",
    "    checkpoint = torch.load(net_filename)\n",
    "    net.load_state_dict(checkpoint['state_dict'])\n",
    "\n",
    "    with torch.no_grad():\n",
    "        encoded_s = ed.encode_board(cboard)\n",
    "        encoded_s = encoded_s.transpose(2,0,1)\n",
    "        encoded_s = torch.from_numpy(encoded_s).float().cuda()\n",
    "        child_priors, value_estimate = net(encoded_s)\n",
    "        child_priors = child_priors.detach().cpu().numpy().reshape(-1)\n",
    "        value_estimate = value_estimate.item()\n",
    "\n",
    "    p_mat = np.zeros((9,9))\n",
    "    for i in range(child_priors.shape[0]):\n",
    "        m = i // 9\n",
    "        n = i % 9\n",
    "        p_mat[m,n] = child_priors[i]\n",
    "\n",
    "    ax_tmp = fig.add_subplot(2,4,j+1)\n",
    "    plt.imshow(p_mat)\n",
    "    ax_tmp.set_title(f'iter {j+1}', fontsize=16)\n",
    "#     print(value_estimate)\n",
    "\n",
    "plt.show()\n",
    "fig.savefig(f\"./pics/report-policy-iterations.png\")"
   ]
  },
  {
   "cell_type": "code",
   "execution_count": 14,
   "id": "bc250c63",
   "metadata": {},
   "outputs": [
    {
     "data": {
      "text/plain": [
       "array([[9.59691202e-13, 6.09587510e-17, 1.10652980e-11, 3.20916245e-11,\n",
       "        3.97438917e-08, 3.99849314e-15, 1.78466287e-11, 1.93931720e-12,\n",
       "        9.46735420e-13],\n",
       "       [3.80365461e-11, 4.51576526e-10, 1.67323132e-12, 4.72657989e-11,\n",
       "        3.14736627e-12, 1.51035244e-13, 1.31911151e-15, 4.95188557e-10,\n",
       "        8.61042899e-13],\n",
       "       [3.81311649e-09, 1.18686934e-13, 2.70124366e-17, 3.52517906e-12,\n",
       "        6.01437854e-19, 1.07183813e-13, 3.13589568e-13, 1.61799744e-16,\n",
       "        2.49244066e-13],\n",
       "       [1.52520087e-07, 5.89486492e-16, 8.81435550e-12, 6.96386613e-15,\n",
       "        1.51300587e-12, 7.16496647e-16, 7.46614681e-09, 3.55892023e-03,\n",
       "        3.13745275e-12],\n",
       "       [5.02944998e-15, 2.55875286e-11, 4.76223875e-07, 4.90955081e-08,\n",
       "        1.32830951e-11, 4.91594248e-15, 4.12058638e-04, 9.82130408e-01,\n",
       "        1.73017470e-04],\n",
       "       [1.16151103e-10, 1.49325598e-15, 1.52629184e-13, 2.34958003e-15,\n",
       "        8.99922525e-10, 6.86064432e-13, 1.41499923e-09, 1.37246232e-02,\n",
       "        7.72589548e-09],\n",
       "       [9.66144482e-14, 1.20096821e-08, 1.10601549e-10, 6.02811911e-10,\n",
       "        2.58900590e-09, 6.48675856e-14, 2.40226358e-15, 3.36285686e-16,\n",
       "        2.66190347e-16],\n",
       "       [1.78067092e-11, 1.69237471e-11, 5.43606896e-11, 2.05248405e-16,\n",
       "        3.26186598e-17, 1.10414937e-15, 9.46445411e-08, 4.60418692e-15,\n",
       "        3.85675068e-11],\n",
       "       [9.63178512e-14, 1.93129332e-11, 2.46853081e-12, 4.03537148e-10,\n",
       "        2.40497641e-16, 1.04300754e-19, 2.47003698e-13, 3.79176274e-10,\n",
       "        1.99571860e-18]])"
      ]
     },
     "execution_count": 14,
     "metadata": {},
     "output_type": "execute_result"
    }
   ],
   "source": [
    "p_mat"
   ]
  },
  {
   "cell_type": "code",
   "execution_count": null,
   "id": "bab3870f",
   "metadata": {},
   "outputs": [],
   "source": []
  }
 ],
 "metadata": {
  "kernelspec": {
   "display_name": "Python 3",
   "language": "python",
   "name": "python3"
  },
  "language_info": {
   "codemirror_mode": {
    "name": "ipython",
    "version": 3
   },
   "file_extension": ".py",
   "mimetype": "text/x-python",
   "name": "python",
   "nbconvert_exporter": "python",
   "pygments_lexer": "ipython3",
   "version": "3.7.7"
  }
 },
 "nbformat": 4,
 "nbformat_minor": 5
}
